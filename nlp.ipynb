{
 "cells": [
  {
   "cell_type": "code",
   "execution_count": 108,
   "metadata": {},
   "outputs": [],
   "source": [
    "import re\n",
    "import pandas as pd\n",
    "import csv\n",
    "from nltk.tokenize import sent_tokenize, word_tokenize\n",
    "from nltk.tokenize import regexp_tokenize\n",
    "from nltk.tokenize import TweetTokenizer\n",
    "import matplotlib.pyplot as plt\n",
    "from collections import Counter\n",
    "from nltk.stem import WordNetLemmatizer"
   ]
  },
  {
   "cell_type": "code",
   "execution_count": 2,
   "metadata": {},
   "outputs": [],
   "source": [
    "my_string = \"This is 11 0'clock on Sunday morning. I am here at the house 4259 by my self. I am studying NLP 2 times, I like a lot.\""
   ]
  },
  {
   "cell_type": "code",
   "execution_count": 3,
   "metadata": {},
   "outputs": [
    {
     "name": "stdout",
     "output_type": "stream",
     "text": [
      "[\"This is 11 0'clock on Sunday morning\", ' I am here at the house 4259 by my self', ' I am studying NLP 2 times, I like a lot', '']\n"
     ]
    }
   ],
   "source": [
    "sentence_endings = r\"[.?!]\"\n",
    "print(re.split(sentence_endings, my_string))"
   ]
  },
  {
   "cell_type": "code",
   "execution_count": 5,
   "metadata": {},
   "outputs": [
    {
     "name": "stdout",
     "output_type": "stream",
     "text": [
      "['This', 'Sunday', 'NLP']\n"
     ]
    }
   ],
   "source": [
    "capitalized_words = r\"[A-Z]\\w+\"\n",
    "print(re.findall(capitalized_words, my_string))"
   ]
  },
  {
   "cell_type": "code",
   "execution_count": 6,
   "metadata": {},
   "outputs": [
    {
     "name": "stdout",
     "output_type": "stream",
     "text": [
      "['This', 'is', '11', \"0'clock\", 'on', 'Sunday', 'morning.', 'I', 'am', 'here', 'at', 'the', 'house', '4259', 'by', 'my', 'self.', 'I', 'am', 'studying', 'NLP', '2', 'times,', 'I', 'like', 'a', 'lot.']\n"
     ]
    }
   ],
   "source": [
    "spaces = r\"\\s+\"\n",
    "print(re.split(spaces, my_string))"
   ]
  },
  {
   "cell_type": "code",
   "execution_count": 7,
   "metadata": {},
   "outputs": [
    {
     "name": "stdout",
     "output_type": "stream",
     "text": [
      "['11', '0', '4259', '2']\n"
     ]
    }
   ],
   "source": [
    "digits = r\"\\d+\"\n",
    "print(re.findall(digits, my_string))"
   ]
  },
  {
   "cell_type": "code",
   "execution_count": 22,
   "metadata": {},
   "outputs": [],
   "source": [
    "string = \"President: My fellow Americans: Tonight, I want to speak with you about our nation’s unprecedented response to the coronavirus outbreak that started in China and is now spreading throughout the world.\\nWe have been in frequent contact with our allies, and we are marshalling the full power of the federal government and the private sector to protect the American people.\\nThis is the most aggressive and comprehensive effort to confront a foreign virus in modern history.  I am confident that by counting and continuing to take these tough measures,\\nwe will significantly reduce the threat to our citizens, and we will ultimately and expeditiously defeat this virus.\\nOur team is the best anywhere in the world.  At the very start of the outbreak, \\nwe instituted sweeping travel restrictions on China and put in place the first federally mandated quarantine in over 50 years.\\nWe declared a public health emergency and issued the highest level of travel warning on other countries as the virus spread its horrible infection.\""
   ]
  },
  {
   "cell_type": "code",
   "execution_count": 23,
   "metadata": {},
   "outputs": [
    {
     "name": "stdout",
     "output_type": "stream",
     "text": [
      "['President: My fellow Americans: Tonight, I want to speak with you about our nation’s unprecedented response to the coronavirus outbreak that started in China and is now spreading throughout the world.', 'We have been in frequent contact with our allies, and we are marshalling the full power of the federal government and the private sector to protect the American people.', 'This is the most aggressive and comprehensive effort to confront a foreign virus in modern history.', 'I am confident that by counting and continuing to take these tough measures,\\nwe will significantly reduce the threat to our citizens, and we will ultimately and expeditiously defeat this virus.', 'Our team is the best anywhere in the world.', 'At the very start of the outbreak, \\nwe instituted sweeping travel restrictions on China and put in place the first federally mandated quarantine in over 50 years.', 'We declared a public health emergency and issued the highest level of travel warning on other countries as the virus spread its horrible infection.']\n"
     ]
    }
   ],
   "source": [
    "sentences = sent_tokenize(string)\n",
    "print(sentences)"
   ]
  },
  {
   "cell_type": "code",
   "execution_count": 24,
   "metadata": {},
   "outputs": [
    {
     "name": "stdout",
     "output_type": "stream",
     "text": [
      "{'modern', 'spreading', 'China', 'am', ',', 'confront', 'protect', 'At', 'very', 'anywhere', 'started', 'infection', 'significantly', 'world', 'best', 'defeat', 'public', 'nation', 'virus', 'private', 'most', ':', 'over', 'tough', 'by', 'federal', 'throughout', 'aggressive', 'contact', 'people', 'outbreak', 'team', 'frequent', 'and', 'American', 'will', 'its', 'emergency', 'years', 'on', 'want', 'I', 'confident', 'take', 'are', 'federally', 'put', '50', 'countries', 'Our', 'coronavirus', 'about', 'full', 'sector', 'first', 'threat', 'spread', 'citizens', 'My', 'been', 'foreign', 'as', 'speak', 'issued', 'government', 'with', 'in', 'unprecedented', 'This', 'of', 'place', 'travel', 'start', 'power', 'a', 'response', 'We', 'now', 'Americans', 'that', 'have', 'mandated', 'measures', 'ultimately', 'restrictions', 'level', '’', 'to', 'the', 'comprehensive', 'President', 'Tonight', 'quarantine', 'history', 'instituted', 'horrible', 'marshalling', 'other', 'continuing', 'health', 'reduce', 'is', 'warning', 'expeditiously', 'our', 'highest', '.', 'effort', 'counting', 'sweeping', 'these', 'you', 'allies', 'this', 'we', 's', 'fellow', 'declared'}\n"
     ]
    }
   ],
   "source": [
    "unique_tokens = set(word_tokenize(string))\n",
    "print(unique_tokens)\n"
   ]
  },
  {
   "cell_type": "code",
   "execution_count": 25,
   "metadata": {},
   "outputs": [
    {
     "name": "stdout",
     "output_type": "stream",
     "text": [
      "581 587\n"
     ]
    }
   ],
   "source": [
    "match = re.search('threat', string)\n",
    "print(match.start(), match.end())"
   ]
  },
  {
   "cell_type": "code",
   "execution_count": 26,
   "metadata": {},
   "outputs": [
    {
     "name": "stdout",
     "output_type": "stream",
     "text": [
      "None\n"
     ]
    }
   ],
   "source": [
    "# Find anything \n",
    "pattern_1 = r\"\\[.*\\]\"\n",
    "print(re.search(pattern_1, string))"
   ]
  },
  {
   "cell_type": "code",
   "execution_count": 28,
   "metadata": {},
   "outputs": [
    {
     "name": "stdout",
     "output_type": "stream",
     "text": [
      "<re.Match object; span=(0, 10), match='President:'>\n"
     ]
    }
   ],
   "source": [
    "pattern_2 = r\"[\\w\\s]+:\"\n",
    "print(re.match(pattern_2, string))"
   ]
  },
  {
   "cell_type": "code",
   "execution_count": 29,
   "metadata": {},
   "outputs": [],
   "source": [
    "string_2 = \"Good evening, my fellow Americans, and Happy Lunar New Year. I'm Stacey Abrams, and I'm honored to join the conversation about the state of our union. Growing up, my family went back and forth between lower middle class and working class. Yet even when they came home weary and boom, tired, my parents found a way to show us all who we could be. My librarian mother taught us to love learning. My father shipyard worker, put in overtime and extra shifts, and they made sure we volunteered to help others. Later, they both became United Methodist ministers, an expression of the faith that guides us. These were our family values, faith, service, education, and responsibility. Now, we only had one car, so sometimes my dad had to hitchhike and walk long stretches during the 30 mile trip home from the shipyards. One rainy night my mom got worried, we pile up In the car and went out looking for him, and we eventually found my dad making his way along the road, soaked and shivering in a shirtsleeves. When he got in the car. My mom asked if he'd left his coat at work. He explained that he'd given it to a homeless man he'd met on the highway. When we asked why he given away his only jacket, my dad turned to us and said, I knew when I left that man, he'd still be alone. But I could give him my coat, because I knew you were coming for me. Our power and strength as Americans lives in our hard work and our belief in more. My family understood firsthand that all success is not guaranteed. We live in a nation where opportunity is possible. But we do not succeed alone in these United States. When times are tough. We can persevere because our friends and neighbors will come for us. Our first responders will come for us. It is this mantra This uncommon grace of community that has driven me to become an attorney, a small business owner, a writer, and most recently, the Democratic nominee for governor of Georgia. My reason for running was simple. I love our country, and its promise of opportunity for all. And I stand here tonight, because I hold fast to my father's credo. Together, we are coming for America for a better America. Just a few weeks ago, I joined volunteers to distribute meals to furloughed federal workers. They waited in line for a box of food and a sliver of hope, since they hadn't received paychecks in weeks. Making livelihoods of our federal workers upon for political games is a disgrace. The shutdown was a stunt engineered by the President of the United States, one that defied every tenet of fairness And abandoned not just our people, but our values. For seven years I led the Democratic Party in the Georgia House of Representatives. I didn't always agree with the republican speaker or governor. But I understood that our constituents didn't care about our political parties. They cared about their lives. So when we had to negotiate criminal justice reform, or transportation, or foster care improvements, the leaders of our state didn't shut down. We came together, and we kept our word. It should be no different in our nation's capital. We may come from different sides of the political aisle. But our joint commitment to the ideals of this nation cannot be negotiable. Our most urgent work is to realize Americans dreams of today and tomorrow, to carve a path to independence and prosperity that can last a lifetime. children deserve an excellent education from cradle To career, we owe them safe schools and the highest standards regardless of zip code. Yet this White House response timidly, well, first graders practice active shooter drills, and the price of higher education goes ever steeper. From now on. Our leaders must be willing to tackle gun safety measures and face the crippling effect of educational loans to support educators and invest what is necessary to unleash the power of America's greatest minds. In Georgia and around the country. People are striving for a middle class where a salary truly equals economic security. But instead, families hopes are being crushed by Republican leadership that ignores real life or just doesn't understand it. Under the current administration, far too many hard working Americans are falling behind living paycheck to paycheck, most without labor unions to protect them From even worse harm. The Republican tax bill rigged the system against working people. Rather than bringing back jobs. Plants are closing, layoffs are looming, and wages struggle to keep pace with the actual cost of living. We owe more to the millions of everyday folks who keep our economy running by truck drivers forced to buy their own rigs. Farmers taught in a trade war, small business owners in search of capital and domestic workers serving without labor protections, women and men who could thrive if only they have the support and freedom to do so. We know bipartisanship could craft the 21st century immigration plan. But this administration chooses to cage children and tear families apart. compassionate treatment at the border is not the same as open borders. President Reagan understood this. President Obama understood this Americans understand this, and democrats stand ready to effectively secure our ports and borders. But we must all embrace that from agriculture to health care to entrepreneurship. America is made stronger by the presence of immigrants, not walls.\""
   ]
  },
  {
   "cell_type": "code",
   "execution_count": 46,
   "metadata": {},
   "outputs": [
    {
     "name": "stdout",
     "output_type": "stream",
     "text": [
      "Unknown Speaker  0:00  \n",
      "Good evening, my fellow Americans, and Happy Lunar New Year. I'm Stacey Abrams, and I'm honored to join the conversation about the state of our union. Growing up, my family went back and forth between lower middle class and working class. Yet even when they came home weary and boom, tired, my parents found a way to show us all who we could be. My librarian mother taught us to love learning. My father shipyard worker, put in overtime and extra shifts, and they made sure we volunteered to help others. Later, they both became United Methodist ministers, an expression of the faith that guides us. These were our family values, faith, service, education, and responsibility. Now, we only had one car, so sometimes my dad had to hitchhike and walk long stretches during the 30 mile trip home from the shipyards. One rainy night my mom got worried, we pile up In the car and went out looking for him, and we eventually found my dad making his way along the road, soaked and shivering in a shirtsleeves. When he got in the car. My mom asked if he'd left his coat at work. He explained that he'd given it to a homeless man he'd met on the highway. When we asked why he given away his only jacket, my dad turned to us and said, I knew when I left that man, he'd still be alone. But I could give him my coat, because I knew you were coming for me. Our power and strength as Americans lives in our hard work and our belief in more. My family understood firsthand that all success is not guaranteed. We live in a nation where opportunity is possible. But we do not succeed alone in these United States. When times are tough. We can persevere because our friends and neighbors will come for us. Our first responders will come for us. It is this mantra This uncommon grace of community that has driven me to become an attorney, a small business owner, a writer, and most recently, the Democratic nominee for governor of Georgia. My reason for running was simple. I love our country, and its promise of opportunity for all. And I stand here tonight, because I hold fast to my father's credo. Together, we are coming for America for a better America. Just a few weeks ago, I joined volunteers to distribute meals to furloughed federal workers. They waited in line for a box of food and a sliver of hope, since they hadn't received paychecks in weeks. Making livelihoods of our federal workers upon for political games is a disgrace. The shutdown was a stunt engineered by the President of the United States, one that defied every tenet of fairness And abandoned not just our people, but our values. For seven years I led the Democratic Party in the Georgia House of Representatives. I didn't always agree with the republican speaker or governor. But I understood that our constituents didn't care about our political parties. They cared about their lives. So when we had to negotiate criminal justice reform, or transportation, or foster care improvements, the leaders of our state didn't shut down. We came together, and we kept our word. It should be no different in our nation's capital. We may come from different sides of the political aisle. But our joint commitment to the ideals of this nation cannot be negotiable. Our most urgent work is to realize Americans dreams of today and tomorrow, to carve a path to independence and prosperity that can last a lifetime. children deserve an excellent education from cradle To career, we owe them safe schools and the highest standards regardless of zip code. Yet this White House response timidly, well, first graders practice active shooter drills, and the price of higher education goes ever steeper. From now on. Our leaders must be willing to tackle gun safety measures and face the crippling effect of educational loans to support educators and invest what is necessary to unleash the power of America's greatest minds. In Georgia and around the country. People are striving for a middle class where a salary truly equals economic security. But instead, families hopes are being crushed by Republican leadership that ignores real life or just doesn't understand it. Under the current administration, far too many hard working Americans are falling behind living paycheck to paycheck, most without labor unions to protect them From even worse harm. The Republican tax bill rigged the system against working people. Rather than bringing back jobs. Plants are closing, layoffs are looming, and wages struggle to keep pace with the actual cost of living. We owe more to the millions of everyday folks who keep our economy running by truck drivers forced to buy their own rigs. Farmers taught in a trade war, small business owners in search of capital and domestic workers serving without labor protections, women and men who could thrive if only they have the support and freedom to do so. We know bipartisanship could craft the 21st century immigration plan. But this administration chooses to cage children and tear families apart. compassionate treatment at the border is not the same as open borders. President Reagan understood this. President Obama understood this Americans understand this, and democrats stand ready to effectively secure our ports and borders. But we must all embrace that from agriculture to health care to entrepreneurship. America is made stronger by the presence of immigrants, not walls.\n",
      "\n",
      "Unknown Speaker  6:19  \n",
      "Rather than suing to dismantle the Affordable Care Act, as republican attorneys general have, our leaders must protect the progress we've made and commit to expanding health care and lowering costs for everyone. My father has battled prostate cancer for years. To help cover the cost. I found myself sinking deeper into debt. Because while you can defer some payments, you can't defer cancer treatment. In this great nation, Americans are skipping blood pressure pills, forced to choose between buying medicine or paying rent. maternal mortality rates show that mothers especially black mothers, risk of death to give birth. And in 14 states, including my home state, where a majority wanted, our leaders refused to expand Medicaid, which could save rural hospitals, save economies and save lives. We can do so much more take action on climate change, defend individual liberties with fair minded judges. But none of these ambitions are possible without the bedrock guarantee of our right to vote. Let's be clear, voter suppression is real. from making it harder to register and stay on the rolls to moving and closing polling places to rejecting lawful ballots. We can no longer ignore these threats to democracy. Well, I acknowledge the results of the 2018 election here in Georgia. I did not and we cannot accept efforts to undermine our right to vote. That's why I started a nonpartisan organization called fair fight to advocate for voting rights. This is the next battle for our democracy. When we're all eligible citizens can have their say about the vision we want for our country. We must reject the cynicism that says allowing every eligible vote to be cast and counted is a power grab. Americans understand that these are the values our brave men and women in uniform, and our veterans risked their lives to defend the foundation of our moral leadership around the globe is free and fair elections, where voters pick their leaders, not where politicians pick their voters. And this time of division and crisis, we must come together and stand for and with one another. America has stumbled time and again on its quest towards justice and equality. But with each generation, we have revisit are fundamental truths and where we falter. We make amends. We fought Jim Crow with the Civil Rights Act and the Voting Rights Act. Yet we continue to confront racism from our past and in our present, which is why we must hold everyone from the highest offices, to our own families accountable for racist words and deeds, and call racism what it is wrong. America achieves a measure of reproductive justice in Roe v. Wade. But we must never forget, it is immoral to allow politicians to harm women and families to advance a political agenda. We affirmed marriage equality, and yet the LGBTQ community remains under attack. So even as I am very disappointed by the President's approach to our problems, I still don't want him to fail. But we need him to tell the truth and to respect his duties and Respect the extraordinary diversity that defines America. Our progress has always been found in the refuge in the basic instinct of the American experiment,\n",
      "\n",
      "Unknown Speaker  10:10  \n",
      "to do right by our people.\n",
      "\n",
      "Unknown Speaker  10:13  \n",
      "And with a renewed commitment to social and economic justice, we will create a stronger America together. Because America wins by fighting for our shared values against all enemies, foreign and domestic. That is who we are. And when we do so, never wavering. The state of our union will always be strong. Thank you, and may God bless the United States of America.\n",
      "\n",
      "Transcribed by https://otter.ai\n",
      "\n"
     ]
    },
    {
     "name": "stderr",
     "output_type": "stream",
     "text": [
      "/opt/anaconda3/lib/python3.7/site-packages/ipykernel_launcher.py:1: DeprecationWarning: 'U' mode is deprecated\n",
      "  \"\"\"Entry point for launching an IPython kernel.\n"
     ]
    }
   ],
   "source": [
    "# Loading the text file.\n",
    "\n",
    "f = open(\"response.txt\", 'rU')\n",
    "text = f.read()\n",
    "print(text)"
   ]
  },
  {
   "cell_type": "code",
   "execution_count": 47,
   "metadata": {},
   "outputs": [
    {
     "name": "stdout",
     "output_type": "stream",
     "text": [
      "['Unknown Speaker  0:00  \\nGood evening, my fellow Americans, and Happy Lunar New Year.', \"I'm Stacey Abrams, and I'm honored to join the conversation about the state of our union.\", 'Growing up, my family went back and forth between lower middle class and working class.', 'Yet even when they came home weary and boom, tired, my parents found a way to show us all who we could be.', 'My librarian mother taught us to love learning.', 'My father shipyard worker, put in overtime and extra shifts, and they made sure we volunteered to help others.', 'Later, they both became United Methodist ministers, an expression of the faith that guides us.', 'These were our family values, faith, service, education, and responsibility.', 'Now, we only had one car, so sometimes my dad had to hitchhike and walk long stretches during the 30 mile trip home from the shipyards.', 'One rainy night my mom got worried, we pile up In the car and went out looking for him, and we eventually found my dad making his way along the road, soaked and shivering in a shirtsleeves.', 'When he got in the car.', \"My mom asked if he'd left his coat at work.\", \"He explained that he'd given it to a homeless man he'd met on the highway.\", \"When we asked why he given away his only jacket, my dad turned to us and said, I knew when I left that man, he'd still be alone.\", 'But I could give him my coat, because I knew you were coming for me.', 'Our power and strength as Americans lives in our hard work and our belief in more.', 'My family understood firsthand that all success is not guaranteed.', 'We live in a nation where opportunity is possible.', 'But we do not succeed alone in these United States.', 'When times are tough.', 'We can persevere because our friends and neighbors will come for us.', 'Our first responders will come for us.', 'It is this mantra This uncommon grace of community that has driven me to become an attorney, a small business owner, a writer, and most recently, the Democratic nominee for governor of Georgia.', 'My reason for running was simple.', 'I love our country, and its promise of opportunity for all.', \"And I stand here tonight, because I hold fast to my father's credo.\", 'Together, we are coming for America for a better America.', 'Just a few weeks ago, I joined volunteers to distribute meals to furloughed federal workers.', \"They waited in line for a box of food and a sliver of hope, since they hadn't received paychecks in weeks.\", 'Making livelihoods of our federal workers upon for political games is a disgrace.', 'The shutdown was a stunt engineered by the President of the United States, one that defied every tenet of fairness And abandoned not just our people, but our values.', 'For seven years I led the Democratic Party in the Georgia House of Representatives.', \"I didn't always agree with the republican speaker or governor.\", \"But I understood that our constituents didn't care about our political parties.\", 'They cared about their lives.', \"So when we had to negotiate criminal justice reform, or transportation, or foster care improvements, the leaders of our state didn't shut down.\", 'We came together, and we kept our word.', \"It should be no different in our nation's capital.\", 'We may come from different sides of the political aisle.', 'But our joint commitment to the ideals of this nation cannot be negotiable.', 'Our most urgent work is to realize Americans dreams of today and tomorrow, to carve a path to independence and prosperity that can last a lifetime.', 'children deserve an excellent education from cradle To career, we owe them safe schools and the highest standards regardless of zip code.', 'Yet this White House response timidly, well, first graders practice active shooter drills, and the price of higher education goes ever steeper.', 'From now on.', \"Our leaders must be willing to tackle gun safety measures and face the crippling effect of educational loans to support educators and invest what is necessary to unleash the power of America's greatest minds.\", 'In Georgia and around the country.', 'People are striving for a middle class where a salary truly equals economic security.', \"But instead, families hopes are being crushed by Republican leadership that ignores real life or just doesn't understand it.\", 'Under the current administration, far too many hard working Americans are falling behind living paycheck to paycheck, most without labor unions to protect them From even worse harm.', 'The Republican tax bill rigged the system against working people.', 'Rather than bringing back jobs.', 'Plants are closing, layoffs are looming, and wages struggle to keep pace with the actual cost of living.', 'We owe more to the millions of everyday folks who keep our economy running by truck drivers forced to buy their own rigs.', 'Farmers taught in a trade war, small business owners in search of capital and domestic workers serving without labor protections, women and men who could thrive if only they have the support and freedom to do so.', 'We know bipartisanship could craft the 21st century immigration plan.', 'But this administration chooses to cage children and tear families apart.', 'compassionate treatment at the border is not the same as open borders.', 'President Reagan understood this.', 'President Obama understood this Americans understand this, and democrats stand ready to effectively secure our ports and borders.', 'But we must all embrace that from agriculture to health care to entrepreneurship.', 'America is made stronger by the presence of immigrants, not walls.', \"Unknown Speaker  6:19  \\nRather than suing to dismantle the Affordable Care Act, as republican attorneys general have, our leaders must protect the progress we've made and commit to expanding health care and lowering costs for everyone.\", 'My father has battled prostate cancer for years.', 'To help cover the cost.', 'I found myself sinking deeper into debt.', \"Because while you can defer some payments, you can't defer cancer treatment.\", 'In this great nation, Americans are skipping blood pressure pills, forced to choose between buying medicine or paying rent.', 'maternal mortality rates show that mothers especially black mothers, risk of death to give birth.', 'And in 14 states, including my home state, where a majority wanted, our leaders refused to expand Medicaid, which could save rural hospitals, save economies and save lives.', 'We can do so much more take action on climate change, defend individual liberties with fair minded judges.', 'But none of these ambitions are possible without the bedrock guarantee of our right to vote.', \"Let's be clear, voter suppression is real.\", 'from making it harder to register and stay on the rolls to moving and closing polling places to rejecting lawful ballots.', 'We can no longer ignore these threats to democracy.', 'Well, I acknowledge the results of the 2018 election here in Georgia.', 'I did not and we cannot accept efforts to undermine our right to vote.', \"That's why I started a nonpartisan organization called fair fight to advocate for voting rights.\", 'This is the next battle for our democracy.', \"When we're all eligible citizens can have their say about the vision we want for our country.\", 'We must reject the cynicism that says allowing every eligible vote to be cast and counted is a power grab.', 'Americans understand that these are the values our brave men and women in uniform, and our veterans risked their lives to defend the foundation of our moral leadership around the globe is free and fair elections, where voters pick their leaders, not where politicians pick their voters.', 'And this time of division and crisis, we must come together and stand for and with one another.', 'America has stumbled time and again on its quest towards justice and equality.', 'But with each generation, we have revisit are fundamental truths and where we falter.', 'We make amends.', 'We fought Jim Crow with the Civil Rights Act and the Voting Rights Act.', 'Yet we continue to confront racism from our past and in our present, which is why we must hold everyone from the highest offices, to our own families accountable for racist words and deeds, and call racism what it is wrong.', 'America achieves a measure of reproductive justice in Roe v. Wade.', 'But we must never forget, it is immoral to allow politicians to harm women and families to advance a political agenda.', 'We affirmed marriage equality, and yet the LGBTQ community remains under attack.', \"So even as I am very disappointed by the President's approach to our problems, I still don't want him to fail.\", 'But we need him to tell the truth and to respect his duties and Respect the extraordinary diversity that defines America.', 'Our progress has always been found in the refuge in the basic instinct of the American experiment,\\n\\nUnknown Speaker  10:10  \\nto do right by our people.', 'Unknown Speaker  10:13  \\nAnd with a renewed commitment to social and economic justice, we will create a stronger America together.', 'Because America wins by fighting for our shared values against all enemies, foreign and domestic.', 'That is who we are.', 'And when we do so, never wavering.', 'The state of our union will always be strong.', 'Thank you, and may God bless the United States of America.', 'Transcribed by https://otter.ai']\n"
     ]
    }
   ],
   "source": [
    "sentences = sent_tokenize(text)\n",
    "print(sentences)"
   ]
  },
  {
   "cell_type": "code",
   "execution_count": 63,
   "metadata": {},
   "outputs": [
    {
     "name": "stdout",
     "output_type": "stream",
     "text": [
      "{'received', 'kept', 'father', 'instead', 'ignore', 'globe', 'may', '6:19', 'protections', 'same', 'deeper', 'business', 'risk', 'started', 'hospitals', 'buying', 'strong', 'continue', 'shooter', 'persevere', 'commitment', 'refused', 'revisit', 'Crow', 'given', 'minded', 'mantra', 'nation', 'So', 'others', 'allow', 'by', 'shifts', 'weary', 'still', 'better', 'call', 'Thank', 'joint', 'undermine', 'fail', 'left', 'negotiable', 'and', 'long', 'basic', 'recently', 'Representatives', 'them', 'higher', 'People', 'Obama', 'borders', 'want', 'schools', 'sides', 'jacket', 'battle', 'trade', 'active', 'Rights', 'Growing', 'tell', 'America', 'equality', 'strength', 'especially', 'forget', 'Transcribed', 'greatest', 'buy', 'v.', 'hitchhike', 'uncommon', 'because', 'carve', 'first', 'did', 'immigration', 'hope', 'offices', 'code', 'struggle', 'present', 'car', 'diversity', 'tax', 'economic', 'That', 'From', 'prosperity', \"'m\", 'mothers', 'hard', \"'re\", 'could', 'in', 'immoral', 'success', 'last', 'accountable', 'Reagan', 'know', 'This', 'choose', 'vision', 'neighbors', 'presence', 'my', 'power', 'honored', 'when', 'ignores', 'a', 'United', 'care', 'got', 'forth', 'own', 'turned', 'that', 'said', 'it', 'ambitions', 'Party', 'have', 'but', 'middle', 'falter', 'millions', 'results', 'realize', 'Lunar', 'support', 'labor', 'they', 'rural', 'agenda', 'education', 'shipyards', 'an', 'country', 'cast', 'deeds', 'plan', 'stronger', 'States', 'organization', 'https', 'so', 'mother', 'sliver', 'ready', 'simple', 'death', 'pressure', 'extra', 'for', 'prostate', 'went', 'Speaker', 'ago', 'make', 'rights', 'advance', 'crippling', '0:00', 'shipyard', 'overtime', 'treatment', 'our', 'highest', '.', 'ministers', 'judges', 'me', 'running', 'regardless', 'disappointed', 'what', 'freedom', 'career', 'democracy', 'zip', 'lawful', 'faith', 'battled', 'between', 'road', 'behind', 'soaked', 'acknowledge', 'should', 'why', 'bill', 'In', 'expanding', 'am', 'safety', 'stumbled', 'families', 'individual', 'does', 'fight', 'medicine', 'dismantle', 'credo', 'Farmers', 'walls', 'Plants', 'amends', 'division', 'taught', 'Later', 'defend', 'workers', 'show', 'attack', 'help', 'food', 'guaranteed', 'truly', 'leaders', 'shared', 'border', 'belief', 'livelihoods', 'Wade', 'face', 'most', 'under', 'knew', 'grab', 'Let', 'upon', 'line', 'worker', 'firsthand', 'real', 'Together', 'negotiate', 'marriage', 'century', 'moving', 'current', 'homeless', 'fair', 'pace', 'approach', 'pile', 'speaker', 'years', 'driven', 'rainy', 'experiment', 'immigrants', 'state', 'cover', 'Because', 'quest', 'reproductive', 'domestic', 'meals', 'mile', 'tired', 'says', 'Our', 'writer', 'standards', 'longer', 'asked', 'disgrace', 'one', 'everyone', 'register', 'too', 'citizens', 'My', 'closing', 'administration', 'understand', 'joined', 'foreign', 'attorney', 'has', 'say', 'no', 'deserve', 'renewed', 'generation', 'tenet', 'suing', 'efforts', 'another', 'Jim', 'around', 'guarantee', 'gun', 'his', 'must', 'learning', 'attorneys', 'sure', '10:13', 'Yet', 'invest', 'bless', 'justice', 'climate', 'We', 'made', 'mortality', \"'s\", 'harm', 'maternal', 'hold', 'graders', 'be', 'Well', 'join', 'risked', 'steeper', 'willing', 'yet', 'Medicaid', 'polling', 'waited', 'drivers', 'time', 'Act', 'every', 'coming', 'responders', 'class', 'towards', 'more', 'only', 'do', 'serving', 'walk', 'change', 'foundation', 'work', 'health', 'general', 'great', 'fundamental', 'shirtsleeves', 'embrace', 'need', 'down', 'women', 'led', 'far', 'truck', 'political', 'advocate', 'this', 'cynicism', 'The', 'payments', 'volunteered', 'possible', 'Happy', 'problems', 'some', 'reject', 'conversation', 'understood', 'effect', 'were', 'not', 'striving', 'dad', 'confront', 'come', 'protect', 'grace', 'back', 'Georgia', 'economy', 'man', 'very', 'without', 'fast', 'When', 'sometimes', 'unions', 'life', 'foster', 'voting', 'path', 'fairness', 'He', 'security', 'rolls', 'states', ':', 'tough', 'costs', 'away', 'capital', 'never', 'if', 'remains', 'making', 'Civil', 'people', 'met', 'paychecks', 'democrats', 'criminal', 'well', 'their', 'necessary', 'debt', 'shivering', 'American', 'minds', 'its', 'on', 'save', 'racist', 'came', 'much', 'I', 'worse', 'word', 'LGBTQ', 'put', 'search', 'had', 'guides', 'Good', 'stunt', 'And', 'weeks', 'mom', 'shut', 'improvements', 'republican', 'House', 'distribute', 'open', 'economies', 'about', 'free', 'shutdown', 'Making', 'engineered', 'wins', 'nominee', 'together', 'along', 'or', 'Abrams', 'furloughed', 'way', 'from', 'him', 'been', 'expand', 'rigs', 'New', 'living', 'Methodist', 'educational', 'cared', 'wavering', 'bringing', 'agree', 'games', 'layoffs', 'with', 'where', 'seven', 'veterans', 'small', 'parties', 'than', 'opportunity', 'here', 'succeed', 'including', 'Voting', 'both', 'To', 'voter', 'tear', 'rent', 'response', 'instinct', 'stand', 'ever', 'men', 'fighting', 'now', 'tomorrow', 'Rather', 'salary', 'trip', 'apart', 'owe', 'reform', 'highway', 'to', 'during', 'For', 'black', 'President', 'paycheck', 'tackle', 'It', 'commit', 'paying', 'lifetime', 'keep', 'action', 'fought', 'myself', 'Now', \"'d\", 'all', 'always', 'reason', 'bedrock', 'everyday', 'defied', 'nonpartisan', 'even', 'community', 'entrepreneurship', 'vote', 'election', 'Republican', 'unleash', 'majority', 'promise', 'night', 'these', 'owners', 'Affordable', 'being', 'jobs', 'eventually', 'price', 'responsibility', 'truth', 'ports', 'cage', 'none', 'One', 'equals', 'we', 'compassionate', 'live', 'But', 'lives', 'forced', 'affirmed', 'boom', 'eligible', ',', 'times', 'alone', 'many', 'rigged', 'today', 'which', 'cradle', 'accept', 'respect', 'White', 'union', 'while', 'goes', 'sinking', 'librarian', 'explained', 'harder', 'working', 'became', '10:10', 'service', 'different', 'Roe', 'folks', 'abandoned', 'falling', 'thrive', 'federal', 'lowering', 'ca', \"'ve\", 'system', 'wages', 'pills', 'clear', 'voters', 'duties', 'give', 'few', 'brave', 'timidly', 'home', 'uniform', 'out', 'urgent', 'Stacey', 'aisle', 'chooses', 'found', 'will', 'skipping', 'box', 'become', 'racism', 'Year', 'worried', 'politicians', 'take', 'looking', 'are', 'enemies', 'again', 'Unknown', 'crushed', 'effectively', 'just', 'evening', 'independence', 'was', 'These', 'practice', 'constituents', 'social', 'pick', 'at', 'wanted', 'suppression', 'They', 'values', 'up', 'children', 'transportation', 'as', 'actual', 'Under', 'each', 'next', 'birth', 'Respect', 'places', 'create', 'liberties', 'truths', 'parents', 'rates', 'against', 'can', 'of', 'bipartisanship', 'into', 'educators', 'past', '21st', 'cancer', 'looming', 'cost', 'blood', 'Americans', '30', 'governor', 'defer', 'friends', 'God', 'measures', 'ideals', 'coat', 'refuge', '//otter.ai', 'the', 'lower', 'us', 'owner', 'extraordinary', 'elections', 'ballots', 'words', 'agriculture', 'hopes', 'family', 'loans', 'war', \"n't\", 'stretches', 'dreams', 'Just', 'secure', '2018', 'achieves', 'drills', 'Democratic', 'love', 'rejecting', 'threats', 'wrong', 'Care', 'is', 'called', 'progress', 'counted', 'expression', 'who', 'measure', 'excellent', 'moral', 'he', 'stay', 'crisis', 'you', 'since', 'allowing', 'volunteers', 'right', 'craft', 'defines', 'fellow', 'tonight', 'safe', '14', 'leadership'}\n",
      "732\n"
     ]
    }
   ],
   "source": [
    "unique_tokens = set(word_tokenize(text))\n",
    "print(unique_tokens)\n",
    "print(len(unique_tokens))"
   ]
  },
  {
   "cell_type": "code",
   "execution_count": 56,
   "metadata": {},
   "outputs": [
    {
     "name": "stdout",
     "output_type": "stream",
     "text": [
      "Well, thank you very much. Please. This afternoon, I'll sign a proclamation declaring the month of May to be Older Americans Month. I don't know if I'm in that category. I have a feeling I am, but I feel good and our country is making a lot of progress, Alex, I will tell you that. Making a lot of progress. As we honor the incredible contributions of our nation's seniors, we're here today to discuss the unprecedented steps that we're taking to protect our seniors from the virus. I'll also announce vital new actions to safeguard our nursing homes and most vulnerable citizens as we gradually and safely reopen our country and it's very exciting to see what's happening. We're joined today by Secretary Alex Azar, thank you. Secretary Robert Wilkie. Robert, thank you very much. Administrator Seema Verma, thank you, great job. FEMA administrator, Pete Gaynor and Chief of national guard, bureau general Joseph Lengyel.\n",
      "Donald Trump:  Thanks also to Tennessee Governor Bill Lee, my friend. Thank you very much, Bill. Great job you're doing. It's great being with you too. And many outstanding advocates for America seniors who are here with us today, thank you all very much. As we tragically have seen, the virus poses the greatest risk to older Americans. Together as one nation, we mourn for every precious life that has been lost and there have been many. We're so saddened by it. Through our aggressive actions and the devotion of our doctors and nurses, however, we have held our fatality rate far below hard hit other countries such as Spain and Italy and United Kingdom and Sweden. We're way below other countries. We're deploying every tool, resource and power at our disposal to protect our seniors and Americans of every age and background. Early on, we implemented life saving travel restrictions and directed billions of dollars toward the development of therapies and vaccines and that's moving along rapidly.\n",
      "Donald Trump:  We've moved at a speed that people are absolutely stunned to see. We accelerated treatments including remdesivir, which is reportedly showing encouraging preliminary results. That was the very big story yesterday, it was announced by Gilead. In early March, my administration advised all nursing homes to suspend all medically unnecessary visits to help slow the spread and to protect our seniors, and especially in our nursing homes they are having a hard time in those nursing homes. We took action to step up enforcement of infectious disease standards at nursing homes all across America. We also acted swiftly to secure our veterans' healthcare facilities and deployed hundreds of VA staff to help out in nursing homes nationwide, and we're being helped very greatly by the passage of all of the things that we got passed, Robert. Especially choice, so that people can go and see their doctor when they have to, and especially our seniors.\\\n",
      "Donald Trump: We provided nearly $1 billion in grants to support home delivered meals, in home care and other services that make it impossible for older people to just do what they want to do. We're helping older people with disabilities and we're helping them to live independently. We dramatically expanded access to tele health, a very big deal for Medicare beneficiaries. The number of Medicare patients using tele health has increased from roughly 11,000 a week to more than 650,000 people a week. So, that's from 11,000 a week to 650,000, that's almost an impossible number to believe, right? But it's really something. They get used to it and a lot of that's going to be staying with us long after this horrible scourge is gone. Medicare is also paying for labs to seniors with at home testing when appropriate at zero cost to patients. We've ensured a ventilator for every patient who needs one.\n",
      "Donald Trump: Nobody who's needed a ventilator has been without a ventilator. It's an incredible achievement and we now have thousands and thousands of ventilators and other countries are asking us to help and we're helping other countries. Allies and some that aren't necessarily allies, but they're in big trouble and we're helping other countries now with ventilators. Same thing with masks, we have millions and millions of masks. That was something four weeks ago was difficult and now we have millions of masks coming in and already here. The federal government is also funding over 35,000 members of the national guard to help states deliver critical supplies to nursing homes and to assist with disinfecting and testing. I\\'92d like to ask general Lengyel to please come up and say a few words about the work of the national guard. It's been really fantastic. Thank you. General, please.\n",
      "\n"
     ]
    },
    {
     "name": "stderr",
     "output_type": "stream",
     "text": [
      "/opt/anaconda3/lib/python3.7/site-packages/ipykernel_launcher.py:1: DeprecationWarning: 'U' mode is deprecated\n",
      "  \"\"\"Entry point for launching an IPython kernel.\n"
     ]
    }
   ],
   "source": [
    "file = open('press.txt', 'rU')\n",
    "press = file.read()\n",
    "print(press)"
   ]
  },
  {
   "cell_type": "code",
   "execution_count": 59,
   "metadata": {},
   "outputs": [
    {
     "name": "stdout",
     "output_type": "stream",
     "text": [
      "['Well, thank you very much.', 'Please.', \"This afternoon, I'll sign a proclamation declaring the month of May to be Older Americans Month.\", \"I don't know if I'm in that category.\", 'I have a feeling I am, but I feel good and our country is making a lot of progress, Alex, I will tell you that.', 'Making a lot of progress.', \"As we honor the incredible contributions of our nation's seniors, we're here today to discuss the unprecedented steps that we're taking to protect our seniors from the virus.\", \"I'll also announce vital new actions to safeguard our nursing homes and most vulnerable citizens as we gradually and safely reopen our country and it's very exciting to see what's happening.\", \"We're joined today by Secretary Alex Azar, thank you.\", 'Secretary Robert Wilkie.', 'Robert, thank you very much.', 'Administrator Seema Verma, thank you, great job.', 'FEMA administrator, Pete Gaynor and Chief of national guard, bureau general Joseph Lengyel.', 'Donald Trump:  Thanks also to Tennessee Governor Bill Lee, my friend.', 'Thank you very much, Bill.', \"Great job you're doing.\", \"It's great being with you too.\", 'And many outstanding advocates for America seniors who are here with us today, thank you all very much.', 'As we tragically have seen, the virus poses the greatest risk to older Americans.', 'Together as one nation, we mourn for every precious life that has been lost and there have been many.', \"We're so saddened by it.\", 'Through our aggressive actions and the devotion of our doctors and nurses, however, we have held our fatality rate far below hard hit other countries such as Spain and Italy and United Kingdom and Sweden.', \"We're way below other countries.\", \"We're deploying every tool, resource and power at our disposal to protect our seniors and Americans of every age and background.\", \"Early on, we implemented life saving travel restrictions and directed billions of dollars toward the development of therapies and vaccines and that's moving along rapidly.\", \"Donald Trump:  We've moved at a speed that people are absolutely stunned to see.\", 'We accelerated treatments including remdesivir, which is reportedly showing encouraging preliminary results.', 'That was the very big story yesterday, it was announced by Gilead.', 'In early March, my administration advised all nursing homes to suspend all medically unnecessary visits to help slow the spread and to protect our seniors, and especially in our nursing homes they are having a hard time in those nursing homes.', 'We took action to step up enforcement of infectious disease standards at nursing homes all across America.', \"We also acted swiftly to secure our veterans' healthcare facilities and deployed hundreds of VA staff to help out in nursing homes nationwide, and we're being helped very greatly by the passage of all of the things that we got passed, Robert.\", 'Especially choice, so that people can go and see their doctor when they have to, and especially our seniors.\\\\\\nDonald Trump: We provided nearly $1 billion in grants to support home delivered meals, in home care and other services that make it impossible for older people to just do what they want to do.', \"We're helping older people with disabilities and we're helping them to live independently.\", 'We dramatically expanded access to tele health, a very big deal for Medicare beneficiaries.', 'The number of Medicare patients using tele health has increased from roughly 11,000 a week to more than 650,000 people a week.', \"So, that's from 11,000 a week to 650,000, that's almost an impossible number to believe, right?\", \"But it's really something.\", \"They get used to it and a lot of that's going to be staying with us long after this horrible scourge is gone.\", 'Medicare is also paying for labs to seniors with at home testing when appropriate at zero cost to patients.', \"We've ensured a ventilator for every patient who needs one.\", \"Donald Trump: Nobody who's needed a ventilator has been without a ventilator.\", \"It's an incredible achievement and we now have thousands and thousands of ventilators and other countries are asking us to help and we're helping other countries.\", \"Allies and some that aren't necessarily allies, but they're in big trouble and we're helping other countries now with ventilators.\", 'Same thing with masks, we have millions and millions of masks.', 'That was something four weeks ago was difficult and now we have millions of masks coming in and already here.', 'The federal government is also funding over 35,000 members of the national guard to help states deliver critical supplies to nursing homes and to assist with disinfecting and testing.', \"I\\\\'92d like to ask general Lengyel to please come up and say a few words about the work of the national guard.\", \"It's been really fantastic.\", 'Thank you.', 'General, please.']\n"
     ]
    }
   ],
   "source": [
    "sentences_t = sent_tokenize(press)\n",
    "print(sentences_t)"
   ]
  },
  {
   "cell_type": "code",
   "execution_count": 64,
   "metadata": {},
   "outputs": [
    {
     "name": "stdout",
     "output_type": "stream",
     "text": [
      "{'safeguard', 'four', 'Great', 'risk', 'advocates', 'Medicare', 'new', 'age', 'So', 'nation', 'nationwide', 'Administrator', 'billion', 'Azar', '35,000', 'by', 'Thank', 'used', 'necessarily', 'after', 'Older', 'access', 'and', 'long', 'Wilkie', 'them', 'honor', 'want', 'slow', 'Bill', \"'\", 'tell', 'America', 'homes', 'things', 'greatly', 'go', 'something', 'safely', 'poses', 'directed', '$', 'thank', 'Gilead', 'especially', 'early', 'countries', \"'ll\", 'Alex', 'greatest', 'Donald', 'spread', 'visits', 'That', 'asking', 'needs', \"'m\", 'development', 'going', 'funding', 'hard', \"'re\", 'in', 'really', 'Governor', 'unprecedented', 'know', 'This', 'gradually', 'my', 'power', 'when', 'scourge', 'a', 'United', 'care', 'got', 'FEMA', 'therapies', 'that', 'it', 'impossible', 'have', 'Especially', 'but', 'background', 'millions', 'guard', 'results', 'support', 'they', 'having', 'independently', 'achievement', 'country', 'an', 'remdesivir', 'provided', 'so', 'fantastic', 'for', 'needed', 'As', 'other', 'thing', 'make', 'ago', 'contributions', 'our', 'devotion', '.', 'supplies', 'what', 'afternoon', 'there', 'enforcement', 'moved', 'am', 'In', 'implemented', 'ventilator', 'thousands', 'rate', 'yesterday', 'nearly', 'good', 'help', 'doctors', 'Robert', 'most', 'over', 'deployed', 'aggressive', 'proclamation', 'discuss', 'dollars', 'Together', 'seniors.\\\\', 'moving', 'feeling', 'category', 'reopen', 'infectious', 'outstanding', 'step', 'disinfecting', 'critical', 'choice', 'meals', 'acted', 'beneficiaries', 'trouble', 'stunned', 'passage', 'believe', 'resource', 'standards', 'those', 'gone', 'one', 'swiftly', 'facilities', 'billions', 'too', 'citizens', 'administration', 'joined', 'has', 'say', 'government', 'ask', 'below', 'passed', 'vulnerable', 'saving', 'members', 'dramatically', 'announce', 'travel', 'patient', 'lost', 'like', 'We', 'story', 'nurses', 'bureau', 'suspend', \"'s\", 'job', 'however', 'held', 'happening', 'restrictions', 'be', 'Well', 'deliver', 'get', 'time', 'every', 'coming', 'more', 'disease', 'do', 'work', 'health', 'general', 'great', 'already', 'administrator', 'far', 'steps', 'this', 'The', 'Italy', 'some', 'older', 'friend', 'come', 'absolutely', 'medically', 'protect', 'across', 'very', 'without', 'number', 'life', 'Same', 'month', 'fatality', 'reportedly', ':', 'states', 'Lee', 'see', 'if', 'making', 'doing', 'please', 'deploying', 'people', 'their', 'declaring', 'zero', 'toward', 'on', 'Allies', 'much', 'I', 'lot', 'nursing', 'And', 'weeks', 'Month', 'assist', 'tragically', 'about', 'Making', 'along', 'way', 'Seema', 'from', 'been', 'VA', '11,000', 'grants', 'exciting', 'big', 'with', 'veterans', 'March', 'than', 'here', 'including', 'speed', 'now', 'ensured', 'healthcare', 'almost', 'roughly', 'week', 'to', 'mourn', 'seniors', 'Lengyel', 'It', 'paying', 'Secretary', 'action', 'horrible', 'all', 'patients', 'labs', '650,000', 'treatments', 'Sweden', 'disposal', 'being', 'services', 'advised', 'seen', 'staying', 'we', 'precious', 'live', 'But', 'incredible', 'tele', ',', 'many', 'Spain', 'Joseph', 'today', 'which', 'appropriate', 'such', 'Through', 'virus', 'doctor', 'Tennessee', 'actions', 'federal', 'took', 'Kingdom', \"'ve\", 'encouraging', 'also', 'few', 'Thanks', 'delivered', 'home', 'preliminary', 'out', 'hit', 'will', 'difficult', 'feel', 'hundreds', 'Pete', 'are', 'accelerated', 'announced', '?', 'just', 'unnecessary', 'was', 'at', 'They', 'up', 'May', 'as', 'Trump', 'Early', 'saddened', 'can', 'of', 'Verma', 'helped', 'tool', 'Please', 'increased', '1', 'cost', 'rapidly', 'Americans', 'Chief', \"I\\\\'92d\", 'the', 'taking', 'us', 'General', 'masks', 'words', 'national', \"n't\", 'ventilators', 'secure', 'deal', 'disabilities', 'is', 'progress', 'showing', 'Nobody', 'who', 'staff', 'helping', 'you', 'allies', 'using', 'testing', 'Gaynor', 'right', 'expanded', 'vital', 'vaccines', 'sign'}\n",
      "395\n"
     ]
    }
   ],
   "source": [
    "unique_tokens_t = set(word_tokenize(press))\n",
    "print(unique_tokens_t)\n",
    "print(len(unique_tokens_t))"
   ]
  },
  {
   "cell_type": "code",
   "execution_count": 85,
   "metadata": {},
   "outputs": [],
   "source": [
    "tweets = '#And then came a Plague, a great and powerful Plague, #and the World was never to be the same again! But America rose from this death and destruction, always remembering its many lost souls, and the lost souls all over the World, <3 and became greater than ever before! @trump'"
   ]
  },
  {
   "cell_type": "code",
   "execution_count": 86,
   "metadata": {},
   "outputs": [
    {
     "name": "stdout",
     "output_type": "stream",
     "text": [
      "['#And', '#and']\n"
     ]
    }
   ],
   "source": [
    "pattern5 = r\"#\\w+\"\n",
    "hashtags = regexp_tokenize(tweets, pattern5)\n",
    "print(hashtags)"
   ]
  },
  {
   "cell_type": "code",
   "execution_count": 88,
   "metadata": {},
   "outputs": [
    {
     "name": "stdout",
     "output_type": "stream",
     "text": [
      "['#And', '#and', '<3', '@trump']\n"
     ]
    }
   ],
   "source": [
    "pattern6 = r\"[\\#\\@\\<]\\w+\"\n",
    "print(regexp_tokenize(tweets, pattern6))"
   ]
  },
  {
   "cell_type": "code",
   "execution_count": 89,
   "metadata": {},
   "outputs": [
    {
     "name": "stdout",
     "output_type": "stream",
     "text": [
      "[['#'], ['A'], ['n'], ['d'], [], ['t'], ['h'], ['e'], ['n'], [], ['c'], ['a'], ['m'], ['e'], [], ['a'], [], ['P'], ['l'], ['a'], ['g'], ['u'], ['e'], [','], [], ['a'], [], ['g'], ['r'], ['e'], ['a'], ['t'], [], ['a'], ['n'], ['d'], [], ['p'], ['o'], ['w'], ['e'], ['r'], ['f'], ['u'], ['l'], [], ['P'], ['l'], ['a'], ['g'], ['u'], ['e'], [','], [], ['#'], ['a'], ['n'], ['d'], [], ['t'], ['h'], ['e'], [], ['W'], ['o'], ['r'], ['l'], ['d'], [], ['w'], ['a'], ['s'], [], ['n'], ['e'], ['v'], ['e'], ['r'], [], ['t'], ['o'], [], ['b'], ['e'], [], ['t'], ['h'], ['e'], [], ['s'], ['a'], ['m'], ['e'], [], ['a'], ['g'], ['a'], ['i'], ['n'], ['!'], [], ['B'], ['u'], ['t'], [], ['A'], ['m'], ['e'], ['r'], ['i'], ['c'], ['a'], [], ['r'], ['o'], ['s'], ['e'], [], ['f'], ['r'], ['o'], ['m'], [], ['t'], ['h'], ['i'], ['s'], [], ['d'], ['e'], ['a'], ['t'], ['h'], [], ['a'], ['n'], ['d'], [], ['d'], ['e'], ['s'], ['t'], ['r'], ['u'], ['c'], ['t'], ['i'], ['o'], ['n'], [','], [], ['a'], ['l'], ['w'], ['a'], ['y'], ['s'], [], ['r'], ['e'], ['m'], ['e'], ['m'], ['b'], ['e'], ['r'], ['i'], ['n'], ['g'], [], ['i'], ['t'], ['s'], [], ['m'], ['a'], ['n'], ['y'], [], ['l'], ['o'], ['s'], ['t'], [], ['s'], ['o'], ['u'], ['l'], ['s'], [','], [], ['a'], ['n'], ['d'], [], ['t'], ['h'], ['e'], [], ['l'], ['o'], ['s'], ['t'], [], ['s'], ['o'], ['u'], ['l'], ['s'], [], ['a'], ['l'], ['l'], [], ['o'], ['v'], ['e'], ['r'], [], ['t'], ['h'], ['e'], [], ['W'], ['o'], ['r'], ['l'], ['d'], [','], [], ['<'], ['3'], [], ['a'], ['n'], ['d'], [], ['b'], ['e'], ['c'], ['a'], ['m'], ['e'], [], ['g'], ['r'], ['e'], ['a'], ['t'], ['e'], ['r'], [], ['t'], ['h'], ['a'], ['n'], [], ['e'], ['v'], ['e'], ['r'], [], ['b'], ['e'], ['f'], ['o'], ['r'], ['e'], ['!'], [], ['@'], ['t'], ['r'], ['u'], ['m'], ['p']]\n"
     ]
    }
   ],
   "source": [
    "tknzr = TweetTokenizer()\n",
    "all_tokens = [tknzr.tokenize(t) for t in tweets]\n",
    "print(all_tokens)"
   ]
  },
  {
   "cell_type": "code",
   "execution_count": 92,
   "metadata": {},
   "outputs": [
    {
     "name": "stdout",
     "output_type": "stream",
     "text": [
      "[\"Well, thank you very much. Please. This afternoon, I'll sign a proclamation declaring the month of May to be Older Americans Month. I don't know if I'm in that category. I have a feeling I am, but I feel good and our country is making a lot of progress, Alex, I will tell you that. Making a lot of progress. As we honor the incredible contributions of our nation's seniors, we're here today to discuss the unprecedented steps that we're taking to protect our seniors from the virus. I'll also announce vital new actions to safeguard our nursing homes and most vulnerable citizens as we gradually and safely reopen our country and it's very exciting to see what's happening. We're joined today by Secretary Alex Azar, thank you. Secretary Robert Wilkie. Robert, thank you very much. Administrator Seema Verma, thank you, great job. FEMA administrator, Pete Gaynor and Chief of national guard, bureau general Joseph Lengyel.\", \"Donald Trump:  Thanks also to Tennessee Governor Bill Lee, my friend. Thank you very much, Bill. Great job you're doing. It's great being with you too. And many outstanding advocates for America seniors who are here with us today, thank you all very much. As we tragically have seen, the virus poses the greatest risk to older Americans. Together as one nation, we mourn for every precious life that has been lost and there have been many. We're so saddened by it. Through our aggressive actions and the devotion of our doctors and nurses, however, we have held our fatality rate far below hard hit other countries such as Spain and Italy and United Kingdom and Sweden. We're way below other countries. We're deploying every tool, resource and power at our disposal to protect our seniors and Americans of every age and background. Early on, we implemented life saving travel restrictions and directed billions of dollars toward the development of therapies and vaccines and that's moving along rapidly.\", \"Donald Trump:  We've moved at a speed that people are absolutely stunned to see. We accelerated treatments including remdesivir, which is reportedly showing encouraging preliminary results. That was the very big story yesterday, it was announced by Gilead. In early March, my administration advised all nursing homes to suspend all medically unnecessary visits to help slow the spread and to protect our seniors, and especially in our nursing homes they are having a hard time in those nursing homes. We took action to step up enforcement of infectious disease standards at nursing homes all across America. We also acted swiftly to secure our veterans' healthcare facilities and deployed hundreds of VA staff to help out in nursing homes nationwide, and we're being helped very greatly by the passage of all of the things that we got passed, Robert. Especially choice, so that people can go and see their doctor when they have to, and especially our seniors.\\\\\", \"Donald Trump: We provided nearly $1 billion in grants to support home delivered meals, in home care and other services that make it impossible for older people to just do what they want to do. We're helping older people with disabilities and we're helping them to live independently. We dramatically expanded access to tele health, a very big deal for Medicare beneficiaries. The number of Medicare patients using tele health has increased from roughly 11,000 a week to more than 650,000 people a week. So, that's from 11,000 a week to 650,000, that's almost an impossible number to believe, right? But it's really something. They get used to it and a lot of that's going to be staying with us long after this horrible scourge is gone. Medicare is also paying for labs to seniors with at home testing when appropriate at zero cost to patients. We've ensured a ventilator for every patient who needs one.\", \"Donald Trump: Nobody who's needed a ventilator has been without a ventilator. It's an incredible achievement and we now have thousands and thousands of ventilators and other countries are asking us to help and we're helping other countries. Allies and some that aren't necessarily allies, but they're in big trouble and we're helping other countries now with ventilators. Same thing with masks, we have millions and millions of masks. That was something four weeks ago was difficult and now we have millions of masks coming in and already here. The federal government is also funding over 35,000 members of the national guard to help states deliver critical supplies to nursing homes and to assist with disinfecting and testing. I\\\\'92d like to ask general Lengyel to please come up and say a few words about the work of the national guard. It's been really fantastic. Thank you. General, please.\", '']\n"
     ]
    }
   ],
   "source": [
    "lines = press.split('\\n')\n",
    "print(lines)"
   ]
  },
  {
   "cell_type": "code",
   "execution_count": 93,
   "metadata": {},
   "outputs": [],
   "source": [
    "pattern7 = \"[A-Z]{2,}(\\s)?(#\\d)?([A-Z]{2,})?:\""
   ]
  },
  {
   "cell_type": "code",
   "execution_count": 96,
   "metadata": {},
   "outputs": [],
   "source": [
    "lines = [re.sub(pattern, \"\", l) for l in lines]\n"
   ]
  },
  {
   "cell_type": "code",
   "execution_count": 98,
   "metadata": {},
   "outputs": [],
   "source": [
    "tokenize_lines = [regexp_tokenize(s, \"\\w+\") for s in lines]"
   ]
  },
  {
   "cell_type": "code",
   "execution_count": 99,
   "metadata": {},
   "outputs": [],
   "source": [
    "line_num_words = [len(t_line) for t_line in tokenize_lines]"
   ]
  },
  {
   "cell_type": "code",
   "execution_count": 100,
   "metadata": {},
   "outputs": [
    {
     "data": {
      "image/png": "[encoded data removed]",
      "text/plain": [
       "<Figure size 432x288 with 1 Axes>"
      ]
     },
     "metadata": {
      "needs_background": "light"
     },
     "output_type": "display_data"
    }
   ],
   "source": [
    "plt.hist(line_num_words)\n",
    "plt.show()"
   ]
  },
  {
   "cell_type": "code",
   "execution_count": 103,
   "metadata": {},
   "outputs": [],
   "source": [
    "tokens = word_tokenize(text)"
   ]
  },
  {
   "cell_type": "code",
   "execution_count": 105,
   "metadata": {},
   "outputs": [],
   "source": [
    "lower_tokens = [t.lower() for t in tokens]"
   ]
  },
  {
   "cell_type": "code",
   "execution_count": 106,
   "metadata": {},
   "outputs": [],
   "source": [
    "bow_simple = Counter(lower_tokens)"
   ]
  },
  {
   "cell_type": "code",
   "execution_count": 107,
   "metadata": {},
   "outputs": [
    {
     "name": "stdout",
     "output_type": "stream",
     "text": [
      "[('.', 99), (',', 82), ('and', 67), ('the', 59), ('to', 57), ('our', 38), ('we', 38), ('of', 33), ('a', 24), ('in', 23)]\n"
     ]
    }
   ],
   "source": [
    "print(bow_simple.most_common(10))"
   ]
  },
  {
   "cell_type": "code",
   "execution_count": 109,
   "metadata": {},
   "outputs": [],
   "source": [
    "# Retain alphabetical characters"
   ]
  },
  {
   "cell_type": "code",
   "execution_count": null,
   "metadata": {},
   "outputs": [],
   "source": []
  }
 ],
 "metadata": {
  "kernelspec": {
   "display_name": "Python 3",
   "language": "python",
   "name": "python3"
  },
  "language_info": {
   "codemirror_mode": {
    "name": "ipython",
    "version": 3
   },
   "file_extension": ".py",
   "mimetype": "text/x-python",
   "name": "python",
   "nbconvert_exporter": "python",
   "pygments_lexer": "ipython3",
   "version": "3.7.4"
  }
 },
 "nbformat": 4,
 "nbformat_minor": 2
}
