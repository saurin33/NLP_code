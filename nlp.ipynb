{
 "cells": [
  {
   "cell_type": "code",
   "execution_count": 58,
   "metadata": {},
   "outputs": [
    {
     "name": "stdout",
     "output_type": "stream",
     "text": [
      "Requirement already satisfied: gensim in /opt/anaconda3/lib/python3.7/site-packages (3.8.2)\n",
      "Requirement already satisfied: scipy>=1.0.0 in /opt/anaconda3/lib/python3.7/site-packages (from gensim) (1.4.1)\n",
      "Requirement already satisfied: numpy>=1.11.3 in /opt/anaconda3/lib/python3.7/site-packages (from gensim) (1.18.2)\n",
      "Requirement already satisfied: six>=1.5.0 in /opt/anaconda3/lib/python3.7/site-packages (from gensim) (1.12.0)\n",
      "Requirement already satisfied: smart-open>=1.8.1 in /opt/anaconda3/lib/python3.7/site-packages (from gensim) (1.11.1)\n",
      "Requirement already satisfied: boto3 in /opt/anaconda3/lib/python3.7/site-packages (from smart-open>=1.8.1->gensim) (1.12.41)\n",
      "Requirement already satisfied: requests in /opt/anaconda3/lib/python3.7/site-packages (from smart-open>=1.8.1->gensim) (2.22.0)\n",
      "Requirement already satisfied: boto in /opt/anaconda3/lib/python3.7/site-packages (from smart-open>=1.8.1->gensim) (2.49.0)\n",
      "Requirement already satisfied: botocore<1.16.0,>=1.15.41 in /opt/anaconda3/lib/python3.7/site-packages (from boto3->smart-open>=1.8.1->gensim) (1.15.41)\n",
      "Requirement already satisfied: jmespath<1.0.0,>=0.7.1 in /opt/anaconda3/lib/python3.7/site-packages (from boto3->smart-open>=1.8.1->gensim) (0.9.5)\n",
      "Requirement already satisfied: s3transfer<0.4.0,>=0.3.0 in /opt/anaconda3/lib/python3.7/site-packages (from boto3->smart-open>=1.8.1->gensim) (0.3.3)\n",
      "Requirement already satisfied: urllib3!=1.25.0,!=1.25.1,<1.26,>=1.21.1 in /opt/anaconda3/lib/python3.7/site-packages (from requests->smart-open>=1.8.1->gensim) (1.24.2)\n",
      "Requirement already satisfied: certifi>=2017.4.17 in /opt/anaconda3/lib/python3.7/site-packages (from requests->smart-open>=1.8.1->gensim) (2019.9.11)\n",
      "Requirement already satisfied: idna<2.9,>=2.5 in /opt/anaconda3/lib/python3.7/site-packages (from requests->smart-open>=1.8.1->gensim) (2.8)\n",
      "Requirement already satisfied: chardet<3.1.0,>=3.0.2 in /opt/anaconda3/lib/python3.7/site-packages (from requests->smart-open>=1.8.1->gensim) (3.0.4)\n",
      "Requirement already satisfied: python-dateutil<3.0.0,>=2.1 in /opt/anaconda3/lib/python3.7/site-packages (from botocore<1.16.0,>=1.15.41->boto3->smart-open>=1.8.1->gensim) (2.8.0)\n",
      "Requirement already satisfied: docutils<0.16,>=0.10 in /opt/anaconda3/lib/python3.7/site-packages (from botocore<1.16.0,>=1.15.41->boto3->smart-open>=1.8.1->gensim) (0.15.2)\n",
      "Note: you may need to restart the kernel to use updated packages.\n"
     ]
    }
   ],
   "source": [
    "pip install gensim"
   ]
  },
  {
   "cell_type": "code",
   "execution_count": 83,
   "metadata": {},
   "outputs": [
    {
     "name": "stdout",
     "output_type": "stream",
     "text": [
      "Collecting spacy\n",
      "\u001b[?25l  Downloading https://files.pythonhosted.org/packages/a7/90/785efc7bd26ff8e399f03d02b259216cf29b389a8f3c2412624f0ac32b00/spacy-2.2.4-cp37-cp37m-macosx_10_9_x86_64.whl (10.5MB)\n",
      "\u001b[K     |████████████████████████████████| 10.5MB 6.3MB/s eta 0:00:01    |█████████▊                      | 3.2MB 1.3MB/s eta 0:00:06\n",
      "\u001b[?25hRequirement already satisfied: setuptools in /opt/anaconda3/lib/python3.7/site-packages (from spacy) (41.4.0)\n",
      "Requirement already satisfied: requests<3.0.0,>=2.13.0 in /opt/anaconda3/lib/python3.7/site-packages (from spacy) (2.22.0)\n",
      "Collecting preshed<3.1.0,>=3.0.2 (from spacy)\n",
      "\u001b[?25l  Downloading https://files.pythonhosted.org/packages/c7/3e/9aaba1f8c0cb69e57ebeb411cc1b65b3f6bfc3572dd68969a6d3e59288f6/preshed-3.0.2-cp37-cp37m-macosx_10_6_intel.macosx_10_9_intel.macosx_10_9_x86_64.macosx_10_10_intel.macosx_10_10_x86_64.whl (211kB)\n",
      "\u001b[K     |████████████████████████████████| 215kB 1.4MB/s eta 0:00:01\n",
      "\u001b[?25hCollecting murmurhash<1.1.0,>=0.28.0 (from spacy)\n",
      "  Downloading https://files.pythonhosted.org/packages/b9/bd/faace403086ee922afc74e5615cb8c21020fcf5d5667314e943c08f71fde/murmurhash-1.0.2-cp37-cp37m-macosx_10_6_intel.macosx_10_9_intel.macosx_10_9_x86_64.macosx_10_10_intel.macosx_10_10_x86_64.whl\n",
      "Collecting tqdm<5.0.0,>=4.38.0 (from spacy)\n",
      "\u001b[?25l  Downloading https://files.pythonhosted.org/packages/c9/40/058b12e8ba10e35f89c9b1fdfc2d4c7f8c05947df2d5eb3c7b258019fda0/tqdm-4.46.0-py2.py3-none-any.whl (63kB)\n",
      "\u001b[K     |████████████████████████████████| 71kB 10.2MB/s eta 0:00:01\n",
      "\u001b[?25hCollecting cymem<2.1.0,>=2.0.2 (from spacy)\n",
      "\u001b[?25l  Downloading https://files.pythonhosted.org/packages/63/34/a8b682ee9b57db35a5fe4e179b77c1bda0f6a09745669a99cfc27aa2bed7/cymem-2.0.3-cp37-cp37m-macosx_10_6_intel.whl (54kB)\n",
      "\u001b[K     |████████████████████████████████| 61kB 6.7MB/s eta 0:00:011\n",
      "\u001b[?25hCollecting catalogue<1.1.0,>=0.0.7 (from spacy)\n",
      "  Downloading https://files.pythonhosted.org/packages/6c/f9/9a5658e2f56932e41eb264941f9a2cb7f3ce41a80cb36b2af6ab78e2f8af/catalogue-1.0.0-py2.py3-none-any.whl\n",
      "Collecting srsly<1.1.0,>=1.0.2 (from spacy)\n",
      "\u001b[?25l  Downloading https://files.pythonhosted.org/packages/77/21/2bfb8d559ed128b43e3a12e28579ab5f6b043f1ac079168de3025c0d0a39/srsly-1.0.2-cp37-cp37m-macosx_10_9_x86_64.whl (182kB)\n",
      "\u001b[K     |████████████████████████████████| 184kB 1.7MB/s eta 0:00:01\n",
      "\u001b[?25hCollecting thinc==7.4.0 (from spacy)\n",
      "\u001b[?25l  Downloading https://files.pythonhosted.org/packages/1c/4b/6b49c6e576890b806fab44c2983f3dc1723d38accb2c2193a8da15e88ffb/thinc-7.4.0-cp37-cp37m-macosx_10_9_x86_64.whl (2.2MB)\n",
      "\u001b[K     |████████████████████████████████| 2.2MB 1.8MB/s eta 0:00:01\n",
      "\u001b[?25hCollecting wasabi<1.1.0,>=0.4.0 (from spacy)\n",
      "  Downloading https://files.pythonhosted.org/packages/21/e1/e4e7b754e6be3a79c400eb766fb34924a6d278c43bb828f94233e0124a21/wasabi-0.6.0-py3-none-any.whl\n",
      "Requirement already satisfied: numpy>=1.15.0 in /opt/anaconda3/lib/python3.7/site-packages (from spacy) (1.18.2)\n",
      "Collecting blis<0.5.0,>=0.4.0 (from spacy)\n",
      "\u001b[?25l  Downloading https://files.pythonhosted.org/packages/85/d8/f0be9d8ebec9cbeea1427de6ac0ecc919c0bfe881eff2d2965dbc310ca8b/blis-0.4.1-cp37-cp37m-macosx_10_6_intel.macosx_10_9_intel.macosx_10_9_x86_64.macosx_10_10_intel.macosx_10_10_x86_64.whl (4.0MB)\n",
      "\u001b[K     |████████████████████████████████| 4.0MB 3.4MB/s eta 0:00:01\n",
      "\u001b[?25hCollecting plac<1.2.0,>=0.9.6 (from spacy)\n",
      "  Downloading https://files.pythonhosted.org/packages/86/85/40b8f66c2dd8f4fd9f09d59b22720cffecf1331e788b8a0cab5bafb353d1/plac-1.1.3-py2.py3-none-any.whl\n",
      "Requirement already satisfied: idna<2.9,>=2.5 in /opt/anaconda3/lib/python3.7/site-packages (from requests<3.0.0,>=2.13.0->spacy) (2.8)\n",
      "Requirement already satisfied: urllib3!=1.25.0,!=1.25.1,<1.26,>=1.21.1 in /opt/anaconda3/lib/python3.7/site-packages (from requests<3.0.0,>=2.13.0->spacy) (1.24.2)\n",
      "Requirement already satisfied: chardet<3.1.0,>=3.0.2 in /opt/anaconda3/lib/python3.7/site-packages (from requests<3.0.0,>=2.13.0->spacy) (3.0.4)\n",
      "Requirement already satisfied: certifi>=2017.4.17 in /opt/anaconda3/lib/python3.7/site-packages (from requests<3.0.0,>=2.13.0->spacy) (2019.9.11)\n",
      "Requirement already satisfied: importlib-metadata>=0.20; python_version < \"3.8\" in /opt/anaconda3/lib/python3.7/site-packages (from catalogue<1.1.0,>=0.0.7->spacy) (0.23)\n",
      "Requirement already satisfied: zipp>=0.5 in /opt/anaconda3/lib/python3.7/site-packages (from importlib-metadata>=0.20; python_version < \"3.8\"->catalogue<1.1.0,>=0.0.7->spacy) (0.6.0)\n",
      "Requirement already satisfied: more-itertools in /opt/anaconda3/lib/python3.7/site-packages (from zipp>=0.5->importlib-metadata>=0.20; python_version < \"3.8\"->catalogue<1.1.0,>=0.0.7->spacy) (7.2.0)\n",
      "Installing collected packages: cymem, murmurhash, preshed, tqdm, catalogue, srsly, blis, plac, wasabi, thinc, spacy\n",
      "  Found existing installation: tqdm 4.36.1\n",
      "    Uninstalling tqdm-4.36.1:\n",
      "      Successfully uninstalled tqdm-4.36.1\n",
      "Successfully installed blis-0.4.1 catalogue-1.0.0 cymem-2.0.3 murmurhash-1.0.2 plac-1.1.3 preshed-3.0.2 spacy-2.2.4 srsly-1.0.2 thinc-7.4.0 tqdm-4.46.0 wasabi-0.6.0\n",
      "Note: you may need to restart the kernel to use updated packages.\n"
     ]
    }
   ],
   "source": [
    "pip install spacy"
   ]
  },
  {
   "cell_type": "code",
   "execution_count": 91,
   "metadata": {},
   "outputs": [
    {
     "name": "stdout",
     "output_type": "stream",
     "text": [
      "Requirement already satisfied: spacy in /opt/anaconda3/lib/python3.7/site-packages (2.2.4)\n",
      "Requirement already satisfied: preshed<3.1.0,>=3.0.2 in /opt/anaconda3/lib/python3.7/site-packages (from spacy) (3.0.2)\n",
      "Requirement already satisfied: murmurhash<1.1.0,>=0.28.0 in /opt/anaconda3/lib/python3.7/site-packages (from spacy) (1.0.2)\n",
      "Requirement already satisfied: setuptools in /opt/anaconda3/lib/python3.7/site-packages (from spacy) (41.4.0)\n",
      "Requirement already satisfied: plac<1.2.0,>=0.9.6 in /opt/anaconda3/lib/python3.7/site-packages (from spacy) (1.1.3)\n",
      "Requirement already satisfied: thinc==7.4.0 in /opt/anaconda3/lib/python3.7/site-packages (from spacy) (7.4.0)\n",
      "Requirement already satisfied: cymem<2.1.0,>=2.0.2 in /opt/anaconda3/lib/python3.7/site-packages (from spacy) (2.0.3)\n",
      "Requirement already satisfied: requests<3.0.0,>=2.13.0 in /opt/anaconda3/lib/python3.7/site-packages (from spacy) (2.22.0)\n",
      "Requirement already satisfied: srsly<1.1.0,>=1.0.2 in /opt/anaconda3/lib/python3.7/site-packages (from spacy) (1.0.2)\n",
      "Requirement already satisfied: catalogue<1.1.0,>=0.0.7 in /opt/anaconda3/lib/python3.7/site-packages (from spacy) (1.0.0)\n",
      "Requirement already satisfied: wasabi<1.1.0,>=0.4.0 in /opt/anaconda3/lib/python3.7/site-packages (from spacy) (0.6.0)\n",
      "Requirement already satisfied: blis<0.5.0,>=0.4.0 in /opt/anaconda3/lib/python3.7/site-packages (from spacy) (0.4.1)\n",
      "Requirement already satisfied: tqdm<5.0.0,>=4.38.0 in /opt/anaconda3/lib/python3.7/site-packages (from spacy) (4.46.0)\n",
      "Requirement already satisfied: numpy>=1.15.0 in /opt/anaconda3/lib/python3.7/site-packages (from spacy) (1.18.2)\n",
      "Requirement already satisfied: idna<2.9,>=2.5 in /opt/anaconda3/lib/python3.7/site-packages (from requests<3.0.0,>=2.13.0->spacy) (2.8)\n",
      "Requirement already satisfied: chardet<3.1.0,>=3.0.2 in /opt/anaconda3/lib/python3.7/site-packages (from requests<3.0.0,>=2.13.0->spacy) (3.0.4)\n",
      "Requirement already satisfied: certifi>=2017.4.17 in /opt/anaconda3/lib/python3.7/site-packages (from requests<3.0.0,>=2.13.0->spacy) (2019.9.11)\n",
      "Requirement already satisfied: urllib3!=1.25.0,!=1.25.1,<1.26,>=1.21.1 in /opt/anaconda3/lib/python3.7/site-packages (from requests<3.0.0,>=2.13.0->spacy) (1.24.2)\n",
      "Requirement already satisfied: importlib-metadata>=0.20; python_version < \"3.8\" in /opt/anaconda3/lib/python3.7/site-packages (from catalogue<1.1.0,>=0.0.7->spacy) (0.23)\n",
      "Requirement already satisfied: zipp>=0.5 in /opt/anaconda3/lib/python3.7/site-packages (from importlib-metadata>=0.20; python_version < \"3.8\"->catalogue<1.1.0,>=0.0.7->spacy) (0.6.0)\n",
      "Requirement already satisfied: more-itertools in /opt/anaconda3/lib/python3.7/site-packages (from zipp>=0.5->importlib-metadata>=0.20; python_version < \"3.8\"->catalogue<1.1.0,>=0.0.7->spacy) (7.2.0)\n",
      "Collecting en_core_web_sm==2.2.5 from https://github.com/explosion/spacy-models/releases/download/en_core_web_sm-2.2.5/en_core_web_sm-2.2.5.tar.gz#egg=en_core_web_sm==2.2.5\n",
      "\u001b[?25l  Downloading https://github.com/explosion/spacy-models/releases/download/en_core_web_sm-2.2.5/en_core_web_sm-2.2.5.tar.gz (12.0MB)\n",
      "\u001b[K     |████████████████████████████████| 12.0MB 5.0MB/s eta 0:00:01\n",
      "\u001b[?25hRequirement already satisfied: spacy>=2.2.2 in /opt/anaconda3/lib/python3.7/site-packages (from en_core_web_sm==2.2.5) (2.2.4)\n",
      "Requirement already satisfied: tqdm<5.0.0,>=4.38.0 in /opt/anaconda3/lib/python3.7/site-packages (from spacy>=2.2.2->en_core_web_sm==2.2.5) (4.46.0)\n",
      "Requirement already satisfied: catalogue<1.1.0,>=0.0.7 in /opt/anaconda3/lib/python3.7/site-packages (from spacy>=2.2.2->en_core_web_sm==2.2.5) (1.0.0)\n",
      "Requirement already satisfied: thinc==7.4.0 in /opt/anaconda3/lib/python3.7/site-packages (from spacy>=2.2.2->en_core_web_sm==2.2.5) (7.4.0)\n",
      "Requirement already satisfied: preshed<3.1.0,>=3.0.2 in /opt/anaconda3/lib/python3.7/site-packages (from spacy>=2.2.2->en_core_web_sm==2.2.5) (3.0.2)\n",
      "Requirement already satisfied: numpy>=1.15.0 in /opt/anaconda3/lib/python3.7/site-packages (from spacy>=2.2.2->en_core_web_sm==2.2.5) (1.18.2)\n",
      "Requirement already satisfied: plac<1.2.0,>=0.9.6 in /opt/anaconda3/lib/python3.7/site-packages (from spacy>=2.2.2->en_core_web_sm==2.2.5) (1.1.3)\n",
      "Requirement already satisfied: setuptools in /opt/anaconda3/lib/python3.7/site-packages (from spacy>=2.2.2->en_core_web_sm==2.2.5) (41.4.0)\n",
      "Requirement already satisfied: wasabi<1.1.0,>=0.4.0 in /opt/anaconda3/lib/python3.7/site-packages (from spacy>=2.2.2->en_core_web_sm==2.2.5) (0.6.0)\n",
      "Requirement already satisfied: requests<3.0.0,>=2.13.0 in /opt/anaconda3/lib/python3.7/site-packages (from spacy>=2.2.2->en_core_web_sm==2.2.5) (2.22.0)\n",
      "Requirement already satisfied: murmurhash<1.1.0,>=0.28.0 in /opt/anaconda3/lib/python3.7/site-packages (from spacy>=2.2.2->en_core_web_sm==2.2.5) (1.0.2)\n",
      "Requirement already satisfied: blis<0.5.0,>=0.4.0 in /opt/anaconda3/lib/python3.7/site-packages (from spacy>=2.2.2->en_core_web_sm==2.2.5) (0.4.1)\n",
      "Requirement already satisfied: cymem<2.1.0,>=2.0.2 in /opt/anaconda3/lib/python3.7/site-packages (from spacy>=2.2.2->en_core_web_sm==2.2.5) (2.0.3)\n",
      "Requirement already satisfied: srsly<1.1.0,>=1.0.2 in /opt/anaconda3/lib/python3.7/site-packages (from spacy>=2.2.2->en_core_web_sm==2.2.5) (1.0.2)\n",
      "Requirement already satisfied: importlib-metadata>=0.20; python_version < \"3.8\" in /opt/anaconda3/lib/python3.7/site-packages (from catalogue<1.1.0,>=0.0.7->spacy>=2.2.2->en_core_web_sm==2.2.5) (0.23)\n",
      "Requirement already satisfied: idna<2.9,>=2.5 in /opt/anaconda3/lib/python3.7/site-packages (from requests<3.0.0,>=2.13.0->spacy>=2.2.2->en_core_web_sm==2.2.5) (2.8)\n",
      "Requirement already satisfied: certifi>=2017.4.17 in /opt/anaconda3/lib/python3.7/site-packages (from requests<3.0.0,>=2.13.0->spacy>=2.2.2->en_core_web_sm==2.2.5) (2019.9.11)\n",
      "Requirement already satisfied: chardet<3.1.0,>=3.0.2 in /opt/anaconda3/lib/python3.7/site-packages (from requests<3.0.0,>=2.13.0->spacy>=2.2.2->en_core_web_sm==2.2.5) (3.0.4)\n",
      "Requirement already satisfied: urllib3!=1.25.0,!=1.25.1,<1.26,>=1.21.1 in /opt/anaconda3/lib/python3.7/site-packages (from requests<3.0.0,>=2.13.0->spacy>=2.2.2->en_core_web_sm==2.2.5) (1.24.2)\n",
      "Requirement already satisfied: zipp>=0.5 in /opt/anaconda3/lib/python3.7/site-packages (from importlib-metadata>=0.20; python_version < \"3.8\"->catalogue<1.1.0,>=0.0.7->spacy>=2.2.2->en_core_web_sm==2.2.5) (0.6.0)\n",
      "Requirement already satisfied: more-itertools in /opt/anaconda3/lib/python3.7/site-packages (from zipp>=0.5->importlib-metadata>=0.20; python_version < \"3.8\"->catalogue<1.1.0,>=0.0.7->spacy>=2.2.2->en_core_web_sm==2.2.5) (7.2.0)\n",
      "Building wheels for collected packages: en-core-web-sm\n",
      "  Building wheel for en-core-web-sm (setup.py) ... \u001b[?25ldone\n",
      "\u001b[?25h  Created wheel for en-core-web-sm: filename=en_core_web_sm-2.2.5-cp37-none-any.whl size=12011740 sha256=eb2d88040e96a67f86c3a05335cdf5b0d3bb8fb5dba1bfec43ee2f84d18aaaac\n",
      "  Stored in directory: /private/var/folders/yk/7th_5lwj0k941lrjtdvx5rv80000gn/T/pip-ephem-wheel-cache-t63eqw78/wheels/6a/47/fb/6b5a0b8906d8e8779246c67d4658fd8a544d4a03a75520197a\n",
      "Successfully built en-core-web-sm\n",
      "Installing collected packages: en-core-web-sm\n",
      "Successfully installed en-core-web-sm-2.2.5\n",
      "\u001b[38;5;2m✔ Download and installation successful\u001b[0m\n",
      "You can now load the model via spacy.load('en_core_web_sm')\n",
      "\u001b[38;5;2m✔ Linking successful\u001b[0m\n",
      "/opt/anaconda3/lib/python3.7/site-packages/en_core_web_sm -->\n",
      "/opt/anaconda3/lib/python3.7/site-packages/spacy/data/en\n",
      "You can now load the model via spacy.load('en')\n",
      "Note: you may need to restart the kernel to use updated packages.\n"
     ]
    }
   ],
   "source": [
    "pip install spacy && python -m spacy download en"
   ]
  },
  {
   "cell_type": "code",
   "execution_count": 84,
   "metadata": {},
   "outputs": [],
   "source": [
    "import re\n",
    "import pandas as pd\n",
    "import csv\n",
    "from nltk.tokenize import sent_tokenize, word_tokenize\n",
    "from nltk.tokenize import regexp_tokenize\n",
    "from nltk.tokenize import TweetTokenizer\n",
    "import matplotlib.pyplot as plt\n",
    "from collections import Counter\n",
    "from nltk.stem import WordNetLemmatizer\n",
    "from nltk.corpus import stopwords\n",
    "from gensim.corpora.dictionary import Dictionary\n",
    "import spacy"
   ]
  },
  {
   "cell_type": "code",
   "execution_count": 4,
   "metadata": {},
   "outputs": [],
   "source": [
    "my_string = \"This is 11 0'clock on Sunday morning. I am here at the house 4259 by my self. I am studying NLP 2 times, I like a lot.\""
   ]
  },
  {
   "cell_type": "code",
   "execution_count": 5,
   "metadata": {},
   "outputs": [
    {
     "name": "stdout",
     "output_type": "stream",
     "text": [
      "[\"This is 11 0'clock on Sunday morning\", ' I am here at the house 4259 by my self', ' I am studying NLP 2 times, I like a lot', '']\n"
     ]
    }
   ],
   "source": [
    "sentence_endings = r\"[.?!]\"\n",
    "print(re.split(sentence_endings, my_string))"
   ]
  },
  {
   "cell_type": "code",
   "execution_count": 6,
   "metadata": {},
   "outputs": [
    {
     "name": "stdout",
     "output_type": "stream",
     "text": [
      "['This', 'Sunday', 'NLP']\n"
     ]
    }
   ],
   "source": [
    "capitalized_words = r\"[A-Z]\\w+\"\n",
    "print(re.findall(capitalized_words, my_string))"
   ]
  },
  {
   "cell_type": "code",
   "execution_count": 7,
   "metadata": {},
   "outputs": [
    {
     "name": "stdout",
     "output_type": "stream",
     "text": [
      "['This', 'is', '11', \"0'clock\", 'on', 'Sunday', 'morning.', 'I', 'am', 'here', 'at', 'the', 'house', '4259', 'by', 'my', 'self.', 'I', 'am', 'studying', 'NLP', '2', 'times,', 'I', 'like', 'a', 'lot.']\n"
     ]
    }
   ],
   "source": [
    "spaces = r\"\\s+\"\n",
    "print(re.split(spaces, my_string))"
   ]
  },
  {
   "cell_type": "code",
   "execution_count": 8,
   "metadata": {},
   "outputs": [
    {
     "name": "stdout",
     "output_type": "stream",
     "text": [
      "['11', '0', '4259', '2']\n"
     ]
    }
   ],
   "source": [
    "digits = r\"\\d+\"\n",
    "print(re.findall(digits, my_string))"
   ]
  },
  {
   "cell_type": "code",
   "execution_count": 9,
   "metadata": {},
   "outputs": [],
   "source": [
    "string = \"President: My fellow Americans: Tonight, I want to speak with you about our nation’s unprecedented response to the coronavirus outbreak that started in China and is now spreading throughout the world.\\nWe have been in frequent contact with our allies, and we are marshalling the full power of the federal government and the private sector to protect the American people.\\nThis is the most aggressive and comprehensive effort to confront a foreign virus in modern history.  I am confident that by counting and continuing to take these tough measures,\\nwe will significantly reduce the threat to our citizens, and we will ultimately and expeditiously defeat this virus.\\nOur team is the best anywhere in the world.  At the very start of the outbreak, \\nwe instituted sweeping travel restrictions on China and put in place the first federally mandated quarantine in over 50 years.\\nWe declared a public health emergency and issued the highest level of travel warning on other countries as the virus spread its horrible infection.\""
   ]
  },
  {
   "cell_type": "code",
   "execution_count": 10,
   "metadata": {},
   "outputs": [
    {
     "name": "stdout",
     "output_type": "stream",
     "text": [
      "['President: My fellow Americans: Tonight, I want to speak with you about our nation’s unprecedented response to the coronavirus outbreak that started in China and is now spreading throughout the world.', 'We have been in frequent contact with our allies, and we are marshalling the full power of the federal government and the private sector to protect the American people.', 'This is the most aggressive and comprehensive effort to confront a foreign virus in modern history.', 'I am confident that by counting and continuing to take these tough measures,\\nwe will significantly reduce the threat to our citizens, and we will ultimately and expeditiously defeat this virus.', 'Our team is the best anywhere in the world.', 'At the very start of the outbreak, \\nwe instituted sweeping travel restrictions on China and put in place the first federally mandated quarantine in over 50 years.', 'We declared a public health emergency and issued the highest level of travel warning on other countries as the virus spread its horrible infection.']\n"
     ]
    }
   ],
   "source": [
    "sentences = sent_tokenize(string)\n",
    "print(sentences)"
   ]
  },
  {
   "cell_type": "code",
   "execution_count": 11,
   "metadata": {},
   "outputs": [
    {
     "name": "stdout",
     "output_type": "stream",
     "text": [
      "{'years', 'are', 'foreign', 'confident', 'anywhere', 'measures', 'coronavirus', 'of', 'put', 'team', 'spreading', '50', 'have', 'China', 'best', 'emergency', 'threat', 'infection', 'very', 'government', 'continuing', 'been', ':', 'the', 'declared', 'you', 'federal', 'We', 'countries', 'people', 'aggressive', 'At', 'speak', 'frequent', 'federally', 'contact', 'counting', 'spread', 'defeat', 'will', 'as', 'these', ',', '’', 's', 'expeditiously', 'travel', 'in', 'I', 'full', 'mandated', 'restrictions', 'other', 'tough', 'Our', 'on', 'place', 'that', 'American', 'issued', 'ultimately', 'started', 'instituted', 'now', 'throughout', 'a', 'sector', 'significantly', 'world', 'citizens', 'want', 'response', 'nation', 'with', 'first', 'reduce', 'over', 'horrible', 'and', 'this', 'its', 'to', 'is', 'My', 'history', 'modern', 'start', 'by', 'highest', 'am', 'virus', 'confront', '.', 'quarantine', 'effort', 'This', 'allies', 'health', 'power', 'fellow', 'Tonight', 'President', 'Americans', 'protect', 'warning', 'outbreak', 'level', 'comprehensive', 'marshalling', 'most', 'our', 'sweeping', 'about', 'unprecedented', 'we', 'private', 'public', 'take'}\n"
     ]
    }
   ],
   "source": [
    "unique_tokens = set(word_tokenize(string))\n",
    "print(unique_tokens)\n"
   ]
  },
  {
   "cell_type": "code",
   "execution_count": 12,
   "metadata": {},
   "outputs": [
    {
     "name": "stdout",
     "output_type": "stream",
     "text": [
      "581 587\n"
     ]
    }
   ],
   "source": [
    "match = re.search('threat', string)\n",
    "print(match.start(), match.end())"
   ]
  },
  {
   "cell_type": "code",
   "execution_count": 13,
   "metadata": {},
   "outputs": [
    {
     "name": "stdout",
     "output_type": "stream",
     "text": [
      "None\n"
     ]
    }
   ],
   "source": [
    "# Find anything \n",
    "pattern_1 = r\"\\[.*\\]\"\n",
    "print(re.search(pattern_1, string))"
   ]
  },
  {
   "cell_type": "code",
   "execution_count": 14,
   "metadata": {},
   "outputs": [
    {
     "name": "stdout",
     "output_type": "stream",
     "text": [
      "<re.Match object; span=(0, 10), match='President:'>\n"
     ]
    }
   ],
   "source": [
    "pattern_2 = r\"[\\w\\s]+:\"\n",
    "print(re.match(pattern_2, string))"
   ]
  },
  {
   "cell_type": "code",
   "execution_count": 15,
   "metadata": {},
   "outputs": [],
   "source": [
    "string_2 = \"Good evening, my fellow Americans, and Happy Lunar New Year. I'm Stacey Abrams, and I'm honored to join the conversation about the state of our union. Growing up, my family went back and forth between lower middle class and working class. Yet even when they came home weary and boom, tired, my parents found a way to show us all who we could be. My librarian mother taught us to love learning. My father shipyard worker, put in overtime and extra shifts, and they made sure we volunteered to help others. Later, they both became United Methodist ministers, an expression of the faith that guides us. These were our family values, faith, service, education, and responsibility. Now, we only had one car, so sometimes my dad had to hitchhike and walk long stretches during the 30 mile trip home from the shipyards. One rainy night my mom got worried, we pile up In the car and went out looking for him, and we eventually found my dad making his way along the road, soaked and shivering in a shirtsleeves. When he got in the car. My mom asked if he'd left his coat at work. He explained that he'd given it to a homeless man he'd met on the highway. When we asked why he given away his only jacket, my dad turned to us and said, I knew when I left that man, he'd still be alone. But I could give him my coat, because I knew you were coming for me. Our power and strength as Americans lives in our hard work and our belief in more. My family understood firsthand that all success is not guaranteed. We live in a nation where opportunity is possible. But we do not succeed alone in these United States. When times are tough. We can persevere because our friends and neighbors will come for us. Our first responders will come for us. It is this mantra This uncommon grace of community that has driven me to become an attorney, a small business owner, a writer, and most recently, the Democratic nominee for governor of Georgia. My reason for running was simple. I love our country, and its promise of opportunity for all. And I stand here tonight, because I hold fast to my father's credo. Together, we are coming for America for a better America. Just a few weeks ago, I joined volunteers to distribute meals to furloughed federal workers. They waited in line for a box of food and a sliver of hope, since they hadn't received paychecks in weeks. Making livelihoods of our federal workers upon for political games is a disgrace. The shutdown was a stunt engineered by the President of the United States, one that defied every tenet of fairness And abandoned not just our people, but our values. For seven years I led the Democratic Party in the Georgia House of Representatives. I didn't always agree with the republican speaker or governor. But I understood that our constituents didn't care about our political parties. They cared about their lives. So when we had to negotiate criminal justice reform, or transportation, or foster care improvements, the leaders of our state didn't shut down. We came together, and we kept our word. It should be no different in our nation's capital. We may come from different sides of the political aisle. But our joint commitment to the ideals of this nation cannot be negotiable. Our most urgent work is to realize Americans dreams of today and tomorrow, to carve a path to independence and prosperity that can last a lifetime. children deserve an excellent education from cradle To career, we owe them safe schools and the highest standards regardless of zip code. Yet this White House response timidly, well, first graders practice active shooter drills, and the price of higher education goes ever steeper. From now on. Our leaders must be willing to tackle gun safety measures and face the crippling effect of educational loans to support educators and invest what is necessary to unleash the power of America's greatest minds. In Georgia and around the country. People are striving for a middle class where a salary truly equals economic security. But instead, families hopes are being crushed by Republican leadership that ignores real life or just doesn't understand it. Under the current administration, far too many hard working Americans are falling behind living paycheck to paycheck, most without labor unions to protect them From even worse harm. The Republican tax bill rigged the system against working people. Rather than bringing back jobs. Plants are closing, layoffs are looming, and wages struggle to keep pace with the actual cost of living. We owe more to the millions of everyday folks who keep our economy running by truck drivers forced to buy their own rigs. Farmers taught in a trade war, small business owners in search of capital and domestic workers serving without labor protections, women and men who could thrive if only they have the support and freedom to do so. We know bipartisanship could craft the 21st century immigration plan. But this administration chooses to cage children and tear families apart. compassionate treatment at the border is not the same as open borders. President Reagan understood this. President Obama understood this Americans understand this, and democrats stand ready to effectively secure our ports and borders. But we must all embrace that from agriculture to health care to entrepreneurship. America is made stronger by the presence of immigrants, not walls.\""
   ]
  },
  {
   "cell_type": "code",
   "execution_count": 16,
   "metadata": {},
   "outputs": [
    {
     "name": "stdout",
     "output_type": "stream",
     "text": [
      "Unknown Speaker  0:00  \n",
      "Good evening, my fellow Americans, and Happy Lunar New Year. I'm Stacey Abrams, and I'm honored to join the conversation about the state of our union. Growing up, my family went back and forth between lower middle class and working class. Yet even when they came home weary and boom, tired, my parents found a way to show us all who we could be. My librarian mother taught us to love learning. My father shipyard worker, put in overtime and extra shifts, and they made sure we volunteered to help others. Later, they both became United Methodist ministers, an expression of the faith that guides us. These were our family values, faith, service, education, and responsibility. Now, we only had one car, so sometimes my dad had to hitchhike and walk long stretches during the 30 mile trip home from the shipyards. One rainy night my mom got worried, we pile up In the car and went out looking for him, and we eventually found my dad making his way along the road, soaked and shivering in a shirtsleeves. When he got in the car. My mom asked if he'd left his coat at work. He explained that he'd given it to a homeless man he'd met on the highway. When we asked why he given away his only jacket, my dad turned to us and said, I knew when I left that man, he'd still be alone. But I could give him my coat, because I knew you were coming for me. Our power and strength as Americans lives in our hard work and our belief in more. My family understood firsthand that all success is not guaranteed. We live in a nation where opportunity is possible. But we do not succeed alone in these United States. When times are tough. We can persevere because our friends and neighbors will come for us. Our first responders will come for us. It is this mantra This uncommon grace of community that has driven me to become an attorney, a small business owner, a writer, and most recently, the Democratic nominee for governor of Georgia. My reason for running was simple. I love our country, and its promise of opportunity for all. And I stand here tonight, because I hold fast to my father's credo. Together, we are coming for America for a better America. Just a few weeks ago, I joined volunteers to distribute meals to furloughed federal workers. They waited in line for a box of food and a sliver of hope, since they hadn't received paychecks in weeks. Making livelihoods of our federal workers upon for political games is a disgrace. The shutdown was a stunt engineered by the President of the United States, one that defied every tenet of fairness And abandoned not just our people, but our values. For seven years I led the Democratic Party in the Georgia House of Representatives. I didn't always agree with the republican speaker or governor. But I understood that our constituents didn't care about our political parties. They cared about their lives. So when we had to negotiate criminal justice reform, or transportation, or foster care improvements, the leaders of our state didn't shut down. We came together, and we kept our word. It should be no different in our nation's capital. We may come from different sides of the political aisle. But our joint commitment to the ideals of this nation cannot be negotiable. Our most urgent work is to realize Americans dreams of today and tomorrow, to carve a path to independence and prosperity that can last a lifetime. children deserve an excellent education from cradle To career, we owe them safe schools and the highest standards regardless of zip code. Yet this White House response timidly, well, first graders practice active shooter drills, and the price of higher education goes ever steeper. From now on. Our leaders must be willing to tackle gun safety measures and face the crippling effect of educational loans to support educators and invest what is necessary to unleash the power of America's greatest minds. In Georgia and around the country. People are striving for a middle class where a salary truly equals economic security. But instead, families hopes are being crushed by Republican leadership that ignores real life or just doesn't understand it. Under the current administration, far too many hard working Americans are falling behind living paycheck to paycheck, most without labor unions to protect them From even worse harm. The Republican tax bill rigged the system against working people. Rather than bringing back jobs. Plants are closing, layoffs are looming, and wages struggle to keep pace with the actual cost of living. We owe more to the millions of everyday folks who keep our economy running by truck drivers forced to buy their own rigs. Farmers taught in a trade war, small business owners in search of capital and domestic workers serving without labor protections, women and men who could thrive if only they have the support and freedom to do so. We know bipartisanship could craft the 21st century immigration plan. But this administration chooses to cage children and tear families apart. compassionate treatment at the border is not the same as open borders. President Reagan understood this. President Obama understood this Americans understand this, and democrats stand ready to effectively secure our ports and borders. But we must all embrace that from agriculture to health care to entrepreneurship. America is made stronger by the presence of immigrants, not walls.\n",
      "\n",
      "Unknown Speaker  6:19  \n",
      "Rather than suing to dismantle the Affordable Care Act, as republican attorneys general have, our leaders must protect the progress we've made and commit to expanding health care and lowering costs for everyone. My father has battled prostate cancer for years. To help cover the cost. I found myself sinking deeper into debt. Because while you can defer some payments, you can't defer cancer treatment. In this great nation, Americans are skipping blood pressure pills, forced to choose between buying medicine or paying rent. maternal mortality rates show that mothers especially black mothers, risk of death to give birth. And in 14 states, including my home state, where a majority wanted, our leaders refused to expand Medicaid, which could save rural hospitals, save economies and save lives. We can do so much more take action on climate change, defend individual liberties with fair minded judges. But none of these ambitions are possible without the bedrock guarantee of our right to vote. Let's be clear, voter suppression is real. from making it harder to register and stay on the rolls to moving and closing polling places to rejecting lawful ballots. We can no longer ignore these threats to democracy. Well, I acknowledge the results of the 2018 election here in Georgia. I did not and we cannot accept efforts to undermine our right to vote. That's why I started a nonpartisan organization called fair fight to advocate for voting rights. This is the next battle for our democracy. When we're all eligible citizens can have their say about the vision we want for our country. We must reject the cynicism that says allowing every eligible vote to be cast and counted is a power grab. Americans understand that these are the values our brave men and women in uniform, and our veterans risked their lives to defend the foundation of our moral leadership around the globe is free and fair elections, where voters pick their leaders, not where politicians pick their voters. And this time of division and crisis, we must come together and stand for and with one another. America has stumbled time and again on its quest towards justice and equality. But with each generation, we have revisit are fundamental truths and where we falter. We make amends. We fought Jim Crow with the Civil Rights Act and the Voting Rights Act. Yet we continue to confront racism from our past and in our present, which is why we must hold everyone from the highest offices, to our own families accountable for racist words and deeds, and call racism what it is wrong. America achieves a measure of reproductive justice in Roe v. Wade. But we must never forget, it is immoral to allow politicians to harm women and families to advance a political agenda. We affirmed marriage equality, and yet the LGBTQ community remains under attack. So even as I am very disappointed by the President's approach to our problems, I still don't want him to fail. But we need him to tell the truth and to respect his duties and Respect the extraordinary diversity that defines America. Our progress has always been found in the refuge in the basic instinct of the American experiment,\n",
      "\n",
      "Unknown Speaker  10:10  \n",
      "to do right by our people.\n",
      "\n",
      "Unknown Speaker  10:13  \n",
      "And with a renewed commitment to social and economic justice, we will create a stronger America together. Because America wins by fighting for our shared values against all enemies, foreign and domestic. That is who we are. And when we do so, never wavering. The state of our union will always be strong. Thank you, and may God bless the United States of America.\n",
      "\n",
      "Transcribed by https://otter.ai\n",
      "\n"
     ]
    },
    {
     "name": "stderr",
     "output_type": "stream",
     "text": [
      "/opt/anaconda3/lib/python3.7/site-packages/ipykernel_launcher.py:3: DeprecationWarning: 'U' mode is deprecated\n",
      "  This is separate from the ipykernel package so we can avoid doing imports until\n"
     ]
    }
   ],
   "source": [
    "# Loading the text file.\n",
    "\n",
    "f = open(\"response.txt\", 'rU')\n",
    "text = f.read()\n",
    "print(text)"
   ]
  },
  {
   "cell_type": "code",
   "execution_count": 17,
   "metadata": {},
   "outputs": [
    {
     "name": "stdout",
     "output_type": "stream",
     "text": [
      "['Unknown Speaker  0:00  \\nGood evening, my fellow Americans, and Happy Lunar New Year.', \"I'm Stacey Abrams, and I'm honored to join the conversation about the state of our union.\", 'Growing up, my family went back and forth between lower middle class and working class.', 'Yet even when they came home weary and boom, tired, my parents found a way to show us all who we could be.', 'My librarian mother taught us to love learning.', 'My father shipyard worker, put in overtime and extra shifts, and they made sure we volunteered to help others.', 'Later, they both became United Methodist ministers, an expression of the faith that guides us.', 'These were our family values, faith, service, education, and responsibility.', 'Now, we only had one car, so sometimes my dad had to hitchhike and walk long stretches during the 30 mile trip home from the shipyards.', 'One rainy night my mom got worried, we pile up In the car and went out looking for him, and we eventually found my dad making his way along the road, soaked and shivering in a shirtsleeves.', 'When he got in the car.', \"My mom asked if he'd left his coat at work.\", \"He explained that he'd given it to a homeless man he'd met on the highway.\", \"When we asked why he given away his only jacket, my dad turned to us and said, I knew when I left that man, he'd still be alone.\", 'But I could give him my coat, because I knew you were coming for me.', 'Our power and strength as Americans lives in our hard work and our belief in more.', 'My family understood firsthand that all success is not guaranteed.', 'We live in a nation where opportunity is possible.', 'But we do not succeed alone in these United States.', 'When times are tough.', 'We can persevere because our friends and neighbors will come for us.', 'Our first responders will come for us.', 'It is this mantra This uncommon grace of community that has driven me to become an attorney, a small business owner, a writer, and most recently, the Democratic nominee for governor of Georgia.', 'My reason for running was simple.', 'I love our country, and its promise of opportunity for all.', \"And I stand here tonight, because I hold fast to my father's credo.\", 'Together, we are coming for America for a better America.', 'Just a few weeks ago, I joined volunteers to distribute meals to furloughed federal workers.', \"They waited in line for a box of food and a sliver of hope, since they hadn't received paychecks in weeks.\", 'Making livelihoods of our federal workers upon for political games is a disgrace.', 'The shutdown was a stunt engineered by the President of the United States, one that defied every tenet of fairness And abandoned not just our people, but our values.', 'For seven years I led the Democratic Party in the Georgia House of Representatives.', \"I didn't always agree with the republican speaker or governor.\", \"But I understood that our constituents didn't care about our political parties.\", 'They cared about their lives.', \"So when we had to negotiate criminal justice reform, or transportation, or foster care improvements, the leaders of our state didn't shut down.\", 'We came together, and we kept our word.', \"It should be no different in our nation's capital.\", 'We may come from different sides of the political aisle.', 'But our joint commitment to the ideals of this nation cannot be negotiable.', 'Our most urgent work is to realize Americans dreams of today and tomorrow, to carve a path to independence and prosperity that can last a lifetime.', 'children deserve an excellent education from cradle To career, we owe them safe schools and the highest standards regardless of zip code.', 'Yet this White House response timidly, well, first graders practice active shooter drills, and the price of higher education goes ever steeper.', 'From now on.', \"Our leaders must be willing to tackle gun safety measures and face the crippling effect of educational loans to support educators and invest what is necessary to unleash the power of America's greatest minds.\", 'In Georgia and around the country.', 'People are striving for a middle class where a salary truly equals economic security.', \"But instead, families hopes are being crushed by Republican leadership that ignores real life or just doesn't understand it.\", 'Under the current administration, far too many hard working Americans are falling behind living paycheck to paycheck, most without labor unions to protect them From even worse harm.', 'The Republican tax bill rigged the system against working people.', 'Rather than bringing back jobs.', 'Plants are closing, layoffs are looming, and wages struggle to keep pace with the actual cost of living.', 'We owe more to the millions of everyday folks who keep our economy running by truck drivers forced to buy their own rigs.', 'Farmers taught in a trade war, small business owners in search of capital and domestic workers serving without labor protections, women and men who could thrive if only they have the support and freedom to do so.', 'We know bipartisanship could craft the 21st century immigration plan.', 'But this administration chooses to cage children and tear families apart.', 'compassionate treatment at the border is not the same as open borders.', 'President Reagan understood this.', 'President Obama understood this Americans understand this, and democrats stand ready to effectively secure our ports and borders.', 'But we must all embrace that from agriculture to health care to entrepreneurship.', 'America is made stronger by the presence of immigrants, not walls.', \"Unknown Speaker  6:19  \\nRather than suing to dismantle the Affordable Care Act, as republican attorneys general have, our leaders must protect the progress we've made and commit to expanding health care and lowering costs for everyone.\", 'My father has battled prostate cancer for years.', 'To help cover the cost.', 'I found myself sinking deeper into debt.', \"Because while you can defer some payments, you can't defer cancer treatment.\", 'In this great nation, Americans are skipping blood pressure pills, forced to choose between buying medicine or paying rent.', 'maternal mortality rates show that mothers especially black mothers, risk of death to give birth.', 'And in 14 states, including my home state, where a majority wanted, our leaders refused to expand Medicaid, which could save rural hospitals, save economies and save lives.', 'We can do so much more take action on climate change, defend individual liberties with fair minded judges.', 'But none of these ambitions are possible without the bedrock guarantee of our right to vote.', \"Let's be clear, voter suppression is real.\", 'from making it harder to register and stay on the rolls to moving and closing polling places to rejecting lawful ballots.', 'We can no longer ignore these threats to democracy.', 'Well, I acknowledge the results of the 2018 election here in Georgia.', 'I did not and we cannot accept efforts to undermine our right to vote.', \"That's why I started a nonpartisan organization called fair fight to advocate for voting rights.\", 'This is the next battle for our democracy.', \"When we're all eligible citizens can have their say about the vision we want for our country.\", 'We must reject the cynicism that says allowing every eligible vote to be cast and counted is a power grab.', 'Americans understand that these are the values our brave men and women in uniform, and our veterans risked their lives to defend the foundation of our moral leadership around the globe is free and fair elections, where voters pick their leaders, not where politicians pick their voters.', 'And this time of division and crisis, we must come together and stand for and with one another.', 'America has stumbled time and again on its quest towards justice and equality.', 'But with each generation, we have revisit are fundamental truths and where we falter.', 'We make amends.', 'We fought Jim Crow with the Civil Rights Act and the Voting Rights Act.', 'Yet we continue to confront racism from our past and in our present, which is why we must hold everyone from the highest offices, to our own families accountable for racist words and deeds, and call racism what it is wrong.', 'America achieves a measure of reproductive justice in Roe v. Wade.', 'But we must never forget, it is immoral to allow politicians to harm women and families to advance a political agenda.', 'We affirmed marriage equality, and yet the LGBTQ community remains under attack.', \"So even as I am very disappointed by the President's approach to our problems, I still don't want him to fail.\", 'But we need him to tell the truth and to respect his duties and Respect the extraordinary diversity that defines America.', 'Our progress has always been found in the refuge in the basic instinct of the American experiment,\\n\\nUnknown Speaker  10:10  \\nto do right by our people.', 'Unknown Speaker  10:13  \\nAnd with a renewed commitment to social and economic justice, we will create a stronger America together.', 'Because America wins by fighting for our shared values against all enemies, foreign and domestic.', 'That is who we are.', 'And when we do so, never wavering.', 'The state of our union will always be strong.', 'Thank you, and may God bless the United States of America.', 'Transcribed by https://otter.ai']\n"
     ]
    }
   ],
   "source": [
    "sentences = sent_tokenize(text)\n",
    "print(sentences)"
   ]
  },
  {
   "cell_type": "code",
   "execution_count": 18,
   "metadata": {},
   "outputs": [
    {
     "name": "stdout",
     "output_type": "stream",
     "text": [
      "{'conversation', 'years', 'support', 'persevere', '2018', 'truck', 'became', 'suppression', 'https', 'responders', 'him', 'strong', 'Later', 'walk', 'Medicaid', 'bedrock', 'stay', 'attorneys', 'prostate', 'elections', 'In', 'measure', 'same', 'minds', 'revisit', 'loans', 'worker', 'So', 'understood', 'crippling', 'deeper', 'racism', 'lower', 'diversity', 'maternal', 'been', 'hospitals', 'majority', 'lives', 'last', 'Civil', 'educational', 'seven', '0:00', 'But', 'We', 'what', 'hitchhike', 'everyday', 'bless', 'waited', 'moral', 'shivering', 'looming', 'negotiate', 'pace', 'tired', 'Making', 'could', 'rent', 'values', 'night', 'them', 'walls', ',', 'cost', 'guaranteed', 'life', 'black', 'possible', 'The', 'had', 'paying', 'educators', 'deeds', 'cynicism', 'understand', 'American', 'effect', 'coming', 'continue', '10:10', 'When', 'distribute', 'now', 'harm', 'too', 'worried', 'a', 'general', 'cover', 'opportunity', 'yet', 'crisis', 'agenda', '10:13', '//otter.ai', 'long', 'allow', 'States', 'want', 'asked', 'others', 'past', 'some', 'overtime', 'change', 'ever', 'sure', 'faith', 'neighbors', 'remains', 'again', 'working', 'Now', 'up', 'times', 'shipyard', 'fairness', 'another', 'guides', 'veterans', 'paychecks', 'father', 'need', 'Plants', 'justice', 'cradle', 'forth', 'both', 'democracy', 'undermine', 'owner', 'highest', \"'d\", 'crushed', '6:19', 'am', '.', 'search', 'shifts', 'career', 'amends', 'higher', 'become', 'rigs', 'President', 'one', 'Representatives', 'save', 'an', 'union', 'state', 'political', 'graders', 'debt', 'our', 'librarian', 'Republican', 'system', 'middle', 'mile', 'tell', 'parents', 'People', 'nonpartisan', 'stunt', 'for', 'cancer', 'home', 'honored', 'path', 'voting', 'looking', 'here', 'all', 'strength', 'foreign', 'Thank', 'Unknown', 'measures', 'coat', 'soaked', 'LGBTQ', 'tenet', 'call', 'suing', 'God', 'volunteers', 'do', 'immigrants', 'while', 'living', 'hope', 'tonight', 'falter', 'came', 'America', 'allowing', 'being', 'small', 'accountable', 'Affordable', 'struggle', 'negotiable', 'never', 'medicine', 'Act', 'criminal', 'gun', 'liberties', 'open', 'hopes', 'work', 'equals', 'Farmers', 'mortality', 'rates', 'improvements', 'federal', 'Obama', 'own', 'defend', 'ago', 'alone', 'Because', 'free', 'he', 'running', 'freedom', 'stretches', 'harder', 'craft', 'does', 'did', 'defines', 'down', 'no', 'vote', 'or', 'ca', 'One', 'towards', 'mothers', 'Jim', 'protections', 'will', 'as', 'called', 'fought', 'foundation', 'homeless', 'these', 'truly', 'fundamental', 'economies', 'sometimes', 'upon', 'many', 'between', 'keep', 'uniform', 'I', 'volunteered', 'around', 'may', 'extraordinary', 'knew', 'started', 'To', 'behind', 'cage', 'man', 'practice', 'citizens', 'great', 'speaker', 'families', 'mantra', 'buying', 'each', 'climate', 'globe', 'jobs', 'immoral', 'success', 'aisle', 'willing', 'And', 'social', 'racist', 'rainy', 'grab', 'truths', 'away', 'blood', 'wanted', 'belief', 'House', 'Happy', 'He', 'excellent', 'together', 'advocate', 'My', 'Georgia', 'payments', 'under', 'price', 'reproductive', 'United', 'treatment', 'business', 'when', 'always', 'deserve', 'by', 'us', 'capital', 'sides', 'economy', 'register', 'into', 'risked', \"n't\", 'necessary', 'transportation', 'buy', '21st', 'livelihoods', 'pile', 'embrace', 'line', 'Growing', 'fellow', 'left', 'eventually', 'protect', 'expanding', 'give', 'ideals', 'acknowledge', 'Roe', 'different', 'reject', 'time', 'service', 'me', 'millions', 'war', 'about', 'agriculture', 'we', 'problems', 'must', 'refused', 'administration', 'take', 'attack', 'drills', 'experiment', 'ballots', 'defied', 'everyone', 'can', 'rolls', 'safe', 'women', 'These', 'polling', 'They', 'bringing', 'stumbled', 'paycheck', 'standards', 'of', 'love', 'renewed', 'goes', 'have', 'create', 'help', 'unions', 'Under', 'drivers', 'labor', 'stronger', 'succeed', 'serving', 'secure', 'safety', 'very', 'way', 'his', 'weary', ':', 'For', 'the', 'games', 'live', 'you', 'education', 'children', \"'ve\", 'found', 'who', 'kept', 'fight', 'driven', 'owe', 'people', 'agree', 'regardless', 'Together', 'where', 'grace', 'so', 'choose', 'meals', 'joint', 'Let', 'especially', 'basic', 'better', 'weeks', 'real', 'battled', 'wavering', 'be', 'counted', 'was', 'instead', 'pick', 'sliver', 'learning', 'has', 'words', 'independence', 'trade', 'furloughed', 'in', 'community', 'joined', 'steeper', 'brave', 'tough', 'present', 'Our', 'lawful', 'against', 'shirtsleeves', 'on', 'worse', 'than', 'chooses', 'realize', 'that', 'minded', 'defer', 'voter', 'unleash', \"'s\", 'ports', 'ignore', 'few', 'their', 'timidly', 'trip', 'economic', 'dismantle', 'republican', 'lowering', 'active', 'states', 'refuge', 'costs', 'plan', 'response', 'truth', 'Stacey', 'why', 'shut', 'stand', 'ignores', 'bipartisanship', 'know', 'urgent', 'this', 'death', 'to', 'is', 'organization', 'Good', 'Crow', 'along', 'lifetime', '30', 'box', 'Just', 'since', 'actual', 'greatest', 'zip', 'progress', 'confront', '14', 'code', 'democrats', 'clear', 'vision', 'word', 'back', 'That', 'today', 'Rather', 'effectively', 'met', 'affirmed', 'fast', 'without', 'tear', 'Lunar', 'much', 'dad', 'rural', 'abandoned', 'face', 'foster', 'tomorrow', 'borders', 'most', 'Wade', 'show', 'immigration', 'v.', 'tackle', 'taught', 'expression', 'they', 'given', 'It', 'should', 'closing', 'Party', 'fighting', 'made', 'owners', 'Speaker', 'including', 'responsibility', 'are', 'food', 'come', 'led', 'it', 'rights', 'shared', 'approach', 'fair', 'say', 'marriage', 'action', 'voters', 'shutdown', 'myself', 'Voting', 'put', 'recently', 'current', 'Rights', 'credo', 'fail', 'men', 'making', 'Transcribed', 'efforts', 'mother', 'governor', 'advance', 'if', 'results', 'respect', 'even', 'security', 'shipyards', 'make', 'nominee', 'wrong', 'border', 'pills', 'disappointed', 'enemies', 'eligible', 'went', 'commitment', 'individual', 'shooter', 'carve', 'only', 'Respect', 'family', 'achieves', 'but', 'attorney', 'Year', 'generation', 'mom', 'were', 'just', 'falling', 'folks', 'which', 'class', 'explained', 'bill', 'New', 'apart', 'Well', 'skipping', 'right', 'places', 'prosperity', 'reason', 'forced', 'salary', 'expand', 'ambitions', 'accept', 'out', 'every', 'because', 'Care', 'schools', 'hard', 'commit', 'quest', 'from', 'far', 'extra', 'friends', 'wages', 'birth', 'politicians', 'uncommon', 'duties', 'pressure', 'ministers', 'tax', 'reform', 'parties', 'White', 'striving', \"'re\", 'promise', 'Reagan', 'forget', 'disgrace', 'domestic', 'cast', 'care', 'said', 'division', 'compassionate', 'firsthand', 'still', 'nation', 'workers', 'with', 'From', 'election', 'Abrams', 'leadership', 'equality', 'first', 'Methodist', 'turned', 'not', 'thrive', \"'m\", 'join', 'and', 'guarantee', 'its', 'ready', 'jacket', 'risk', 'at', 'longer', 'during', 'layoffs', 'rigged', 'road', 'evening', 'battle', 'moving', 'invest', 'boom', 'presence', 'hold', 'Democratic', 'car', 'Yet', 'none', 'highway', 'This', 'says', 'next', 'health', 'got', 'wins', 'power', 'dreams', 'judges', 'offices', 'instinct', 'more', 'cared', 'Americans', 'rejecting', 'constituents', 'sinking', 'my', 'writer', 'received', 'century', 'entrepreneurship', 'simple', 'engineered', 'leaders', 'threats', 'country', 'well'}\n",
      "732\n"
     ]
    }
   ],
   "source": [
    "unique_tokens = set(word_tokenize(text))\n",
    "print(unique_tokens)\n",
    "print(len(unique_tokens))"
   ]
  },
  {
   "cell_type": "code",
   "execution_count": 19,
   "metadata": {},
   "outputs": [
    {
     "name": "stdout",
     "output_type": "stream",
     "text": [
      "Well, thank you very much. Please. This afternoon, I'll sign a proclamation declaring the month of May to be Older Americans Month. I don't know if I'm in that category. I have a feeling I am, but I feel good and our country is making a lot of progress, Alex, I will tell you that. Making a lot of progress. As we honor the incredible contributions of our nation's seniors, we're here today to discuss the unprecedented steps that we're taking to protect our seniors from the virus. I'll also announce vital new actions to safeguard our nursing homes and most vulnerable citizens as we gradually and safely reopen our country and it's very exciting to see what's happening. We're joined today by Secretary Alex Azar, thank you. Secretary Robert Wilkie. Robert, thank you very much. Administrator Seema Verma, thank you, great job. FEMA administrator, Pete Gaynor and Chief of national guard, bureau general Joseph Lengyel.\n",
      "Donald Trump:  Thanks also to Tennessee Governor Bill Lee, my friend. Thank you very much, Bill. Great job you're doing. It's great being with you too. And many outstanding advocates for America seniors who are here with us today, thank you all very much. As we tragically have seen, the virus poses the greatest risk to older Americans. Together as one nation, we mourn for every precious life that has been lost and there have been many. We're so saddened by it. Through our aggressive actions and the devotion of our doctors and nurses, however, we have held our fatality rate far below hard hit other countries such as Spain and Italy and United Kingdom and Sweden. We're way below other countries. We're deploying every tool, resource and power at our disposal to protect our seniors and Americans of every age and background. Early on, we implemented life saving travel restrictions and directed billions of dollars toward the development of therapies and vaccines and that's moving along rapidly.\n",
      "Donald Trump:  We've moved at a speed that people are absolutely stunned to see. We accelerated treatments including remdesivir, which is reportedly showing encouraging preliminary results. That was the very big story yesterday, it was announced by Gilead. In early March, my administration advised all nursing homes to suspend all medically unnecessary visits to help slow the spread and to protect our seniors, and especially in our nursing homes they are having a hard time in those nursing homes. We took action to step up enforcement of infectious disease standards at nursing homes all across America. We also acted swiftly to secure our veterans' healthcare facilities and deployed hundreds of VA staff to help out in nursing homes nationwide, and we're being helped very greatly by the passage of all of the things that we got passed, Robert. Especially choice, so that people can go and see their doctor when they have to, and especially our seniors.\\\n",
      "Donald Trump: We provided nearly $1 billion in grants to support home delivered meals, in home care and other services that make it impossible for older people to just do what they want to do. We're helping older people with disabilities and we're helping them to live independently. We dramatically expanded access to tele health, a very big deal for Medicare beneficiaries. The number of Medicare patients using tele health has increased from roughly 11,000 a week to more than 650,000 people a week. So, that's from 11,000 a week to 650,000, that's almost an impossible number to believe, right? But it's really something. They get used to it and a lot of that's going to be staying with us long after this horrible scourge is gone. Medicare is also paying for labs to seniors with at home testing when appropriate at zero cost to patients. We've ensured a ventilator for every patient who needs one.\n",
      "Donald Trump: Nobody who's needed a ventilator has been without a ventilator. It's an incredible achievement and we now have thousands and thousands of ventilators and other countries are asking us to help and we're helping other countries. Allies and some that aren't necessarily allies, but they're in big trouble and we're helping other countries now with ventilators. Same thing with masks, we have millions and millions of masks. That was something four weeks ago was difficult and now we have millions of masks coming in and already here. The federal government is also funding over 35,000 members of the national guard to help states deliver critical supplies to nursing homes and to assist with disinfecting and testing. I\\'92d like to ask general Lengyel to please come up and say a few words about the work of the national guard. It's been really fantastic. Thank you. General, please.\n",
      "\n"
     ]
    },
    {
     "name": "stderr",
     "output_type": "stream",
     "text": [
      "/opt/anaconda3/lib/python3.7/site-packages/ipykernel_launcher.py:1: DeprecationWarning: 'U' mode is deprecated\n",
      "  \"\"\"Entry point for launching an IPython kernel.\n"
     ]
    }
   ],
   "source": [
    "file = open('press.txt', 'rU')\n",
    "press = file.read()\n",
    "print(press)"
   ]
  },
  {
   "cell_type": "code",
   "execution_count": 20,
   "metadata": {},
   "outputs": [
    {
     "name": "stdout",
     "output_type": "stream",
     "text": [
      "['Well, thank you very much.', 'Please.', \"This afternoon, I'll sign a proclamation declaring the month of May to be Older Americans Month.\", \"I don't know if I'm in that category.\", 'I have a feeling I am, but I feel good and our country is making a lot of progress, Alex, I will tell you that.', 'Making a lot of progress.', \"As we honor the incredible contributions of our nation's seniors, we're here today to discuss the unprecedented steps that we're taking to protect our seniors from the virus.\", \"I'll also announce vital new actions to safeguard our nursing homes and most vulnerable citizens as we gradually and safely reopen our country and it's very exciting to see what's happening.\", \"We're joined today by Secretary Alex Azar, thank you.\", 'Secretary Robert Wilkie.', 'Robert, thank you very much.', 'Administrator Seema Verma, thank you, great job.', 'FEMA administrator, Pete Gaynor and Chief of national guard, bureau general Joseph Lengyel.', 'Donald Trump:  Thanks also to Tennessee Governor Bill Lee, my friend.', 'Thank you very much, Bill.', \"Great job you're doing.\", \"It's great being with you too.\", 'And many outstanding advocates for America seniors who are here with us today, thank you all very much.', 'As we tragically have seen, the virus poses the greatest risk to older Americans.', 'Together as one nation, we mourn for every precious life that has been lost and there have been many.', \"We're so saddened by it.\", 'Through our aggressive actions and the devotion of our doctors and nurses, however, we have held our fatality rate far below hard hit other countries such as Spain and Italy and United Kingdom and Sweden.', \"We're way below other countries.\", \"We're deploying every tool, resource and power at our disposal to protect our seniors and Americans of every age and background.\", \"Early on, we implemented life saving travel restrictions and directed billions of dollars toward the development of therapies and vaccines and that's moving along rapidly.\", \"Donald Trump:  We've moved at a speed that people are absolutely stunned to see.\", 'We accelerated treatments including remdesivir, which is reportedly showing encouraging preliminary results.', 'That was the very big story yesterday, it was announced by Gilead.', 'In early March, my administration advised all nursing homes to suspend all medically unnecessary visits to help slow the spread and to protect our seniors, and especially in our nursing homes they are having a hard time in those nursing homes.', 'We took action to step up enforcement of infectious disease standards at nursing homes all across America.', \"We also acted swiftly to secure our veterans' healthcare facilities and deployed hundreds of VA staff to help out in nursing homes nationwide, and we're being helped very greatly by the passage of all of the things that we got passed, Robert.\", 'Especially choice, so that people can go and see their doctor when they have to, and especially our seniors.\\\\\\nDonald Trump: We provided nearly $1 billion in grants to support home delivered meals, in home care and other services that make it impossible for older people to just do what they want to do.', \"We're helping older people with disabilities and we're helping them to live independently.\", 'We dramatically expanded access to tele health, a very big deal for Medicare beneficiaries.', 'The number of Medicare patients using tele health has increased from roughly 11,000 a week to more than 650,000 people a week.', \"So, that's from 11,000 a week to 650,000, that's almost an impossible number to believe, right?\", \"But it's really something.\", \"They get used to it and a lot of that's going to be staying with us long after this horrible scourge is gone.\", 'Medicare is also paying for labs to seniors with at home testing when appropriate at zero cost to patients.', \"We've ensured a ventilator for every patient who needs one.\", \"Donald Trump: Nobody who's needed a ventilator has been without a ventilator.\", \"It's an incredible achievement and we now have thousands and thousands of ventilators and other countries are asking us to help and we're helping other countries.\", \"Allies and some that aren't necessarily allies, but they're in big trouble and we're helping other countries now with ventilators.\", 'Same thing with masks, we have millions and millions of masks.', 'That was something four weeks ago was difficult and now we have millions of masks coming in and already here.', 'The federal government is also funding over 35,000 members of the national guard to help states deliver critical supplies to nursing homes and to assist with disinfecting and testing.', \"I\\\\'92d like to ask general Lengyel to please come up and say a few words about the work of the national guard.\", \"It's been really fantastic.\", 'Thank you.', 'General, please.']\n"
     ]
    }
   ],
   "source": [
    "sentences_t = sent_tokenize(press)\n",
    "print(sentences_t)"
   ]
  },
  {
   "cell_type": "code",
   "execution_count": 21,
   "metadata": {},
   "outputs": [
    {
     "name": "stdout",
     "output_type": "stream",
     "text": [
      "{'advised', 'testing', 'support', 'vulnerable', 'proclamation', 'Month', 'deal', 'In', 'month', 'doctors', '?', 'So', 'steps', 'expanded', 'choice', 'been', 'But', 'We', 'what', 'seen', 'patient', 'seniors.\\\\', 'rapidly', 'medically', 'visits', 'ensured', 'Making', 'dollars', 'things', 'Especially', 'helping', 'them', 'after', 'deliver', ',', 'cost', 'Older', 'life', 'travel', 'difficult', 'The', 'paying', 'deployed', 'really', 'Wilkie', 'infectious', 'coming', 'now', 'category', 'hit', 'Please', 'too', 'funding', 'a', 'general', 'speed', 'long', 'want', 'some', 'May', 'members', 'good', 'zero', 'Same', 'up', 'veterans', 'bureau', 'am', 'Pete', '.', 'mourn', 'roughly', 'allies', '35,000', 'one', 'an', 'Sweden', 'March', 'our', 'resource', 'number', 'swiftly', 'unprecedented', 'age', 'tell', 'thing', 'thousands', 'for', 'home', 'here', 'all', 'Thank', 'tragically', 'achievement', 'healthcare', 'remdesivir', 'Administrator', 'do', 'fantastic', 'supplies', 'America', \"I\\\\'92d\", 'disabilities', 'being', 'critical', 'government', 'passage', 'Allies', 'poses', 'deploying', 'announce', 'work', 'Donald', 'federal', 'seniors', 'ago', 'story', 'dramatically', 'week', 'gone', 'will', '650,000', 'as', 'many', 'safeguard', 'Governor', 'I', 'passed', 'Nobody', 'homes', 'saddened', 'helped', 'older', 'tele', 'discuss', 'citizens', 'great', 'safely', 'stunned', 'nationwide', 'directed', 'Gaynor', 'Thanks', 'delivered', 'And', 'Lee', 'development', 'over', 'access', 'appropriate', 'United', 'big', 'when', 'therapies', 'by', 'us', 'Alex', 'virus', \"n't\", 'doctor', 'like', 'below', 'doing', 'protect', 'sign', 'time', 'millions', 'nursing', 'almost', 'about', 'we', 'thank', 'also', 'administration', 'contributions', 'vital', 'suspend', 'Seema', 'can', 'using', 'new', 'Trump', 'They', 'staying', 'needs', 'job', 'standards', 'of', 'treatments', 'there', 'have', 'feel', 'help', 'believe', 'disinfecting', 'secure', 'disposal', 'needed', 'gradually', 'Verma', 'very', 'way', '$', 'see', ':', 'declaring', 'impossible', 'the', 'administrator', 'live', 'you', \"'ve\", 'who', 'four', 'step', 'Robert', 'people', 'aggressive', 'Together', 'so', 'Great', 'please', 'provided', 'such', 'meals', 'assist', 'toward', 'Early', 'especially', 'weeks', 'be', 'was', 'outstanding', 'acted', 'preliminary', 'has', 'words', 'in', 'enforcement', 'joined', 'billions', 'Tennessee', 'trouble', 'on', 'than', 'that', 'yesterday', 'masks', \"'s\", 'few', 'their', 'moved', 'greatly', 'rate', 'states', 'fatality', 'used', 'ventilators', 'staff', 'accelerated', 'horrible', 'unnecessary', 'know', 'this', 'to', 'is', 'beneficiaries', 'along', 'Gilead', 'exciting', 'Through', 'greatest', 'progress', 'asking', '11,000', 'necessarily', 'afternoon', 'That', 'lot', 'took', 'today', 'lost', 'without', 'much', 'most', 'scourge', 'they', 'It', 'those', 'nearly', 'friend', 'including', 'are', 'come', 'it', 'reopen', 'say', 'action', 'Joseph', 'get', 'going', 'implemented', 'ventilator', 'labs', 'showing', 'making', 'announced', 'slow', 'Italy', 'if', 'held', 'results', 'actions', 'billion', 'services', 'go', 'make', 'patients', 'already', 'countries', 'across', 'As', 'but', 'saving', 'VA', 'nurses', 'spread', 'absolutely', 'just', 'which', 'Bill', 'Well', \"'ll\", 'honor', 'right', 'Kingdom', 'reportedly', 'other', 'restrictions', 'General', 'advocates', 'every', 'out', 'Spain', 'hard', 'from', 'far', 'FEMA', \"'re\", '1', 'something', 'hundreds', 'increased', 'care', 'nation', 'with', 'early', 'grants', \"'m\", 'and', 'devotion', 'risk', 'at', 'Azar', 'facilities', 'taking', 'ask', 'Secretary', 'Chief', 'tool', 'independently', 'moving', 'however', \"'\", 'incredible', 'This', 'national', 'guard', 'health', 'got', 'power', 'happening', 'more', 'disease', 'Americans', 'encouraging', 'my', 'precious', 'background', 'feeling', 'Lengyel', 'vaccines', 'Medicare', 'country', 'having'}\n",
      "395\n"
     ]
    }
   ],
   "source": [
    "unique_tokens_t = set(word_tokenize(press))\n",
    "print(unique_tokens_t)\n",
    "print(len(unique_tokens_t))"
   ]
  },
  {
   "cell_type": "code",
   "execution_count": 22,
   "metadata": {},
   "outputs": [],
   "source": [
    "tweets = '#And then came a Plague, a great and powerful Plague, #and the World was never to be the same again! But America rose from this death and destruction, always remembering its many lost souls, and the lost souls all over the World, <3 and became greater than ever before! @trump'"
   ]
  },
  {
   "cell_type": "code",
   "execution_count": 23,
   "metadata": {},
   "outputs": [
    {
     "name": "stdout",
     "output_type": "stream",
     "text": [
      "['#And', '#and']\n"
     ]
    }
   ],
   "source": [
    "pattern5 = r\"#\\w+\"\n",
    "hashtags = regexp_tokenize(tweets, pattern5)\n",
    "print(hashtags)"
   ]
  },
  {
   "cell_type": "code",
   "execution_count": 24,
   "metadata": {},
   "outputs": [
    {
     "name": "stdout",
     "output_type": "stream",
     "text": [
      "['#And', '#and', '<3', '@trump']\n"
     ]
    }
   ],
   "source": [
    "pattern6 = r\"[\\#\\@\\<]\\w+\"\n",
    "print(regexp_tokenize(tweets, pattern6))"
   ]
  },
  {
   "cell_type": "code",
   "execution_count": 25,
   "metadata": {},
   "outputs": [
    {
     "name": "stdout",
     "output_type": "stream",
     "text": [
      "[['#'], ['A'], ['n'], ['d'], [], ['t'], ['h'], ['e'], ['n'], [], ['c'], ['a'], ['m'], ['e'], [], ['a'], [], ['P'], ['l'], ['a'], ['g'], ['u'], ['e'], [','], [], ['a'], [], ['g'], ['r'], ['e'], ['a'], ['t'], [], ['a'], ['n'], ['d'], [], ['p'], ['o'], ['w'], ['e'], ['r'], ['f'], ['u'], ['l'], [], ['P'], ['l'], ['a'], ['g'], ['u'], ['e'], [','], [], ['#'], ['a'], ['n'], ['d'], [], ['t'], ['h'], ['e'], [], ['W'], ['o'], ['r'], ['l'], ['d'], [], ['w'], ['a'], ['s'], [], ['n'], ['e'], ['v'], ['e'], ['r'], [], ['t'], ['o'], [], ['b'], ['e'], [], ['t'], ['h'], ['e'], [], ['s'], ['a'], ['m'], ['e'], [], ['a'], ['g'], ['a'], ['i'], ['n'], ['!'], [], ['B'], ['u'], ['t'], [], ['A'], ['m'], ['e'], ['r'], ['i'], ['c'], ['a'], [], ['r'], ['o'], ['s'], ['e'], [], ['f'], ['r'], ['o'], ['m'], [], ['t'], ['h'], ['i'], ['s'], [], ['d'], ['e'], ['a'], ['t'], ['h'], [], ['a'], ['n'], ['d'], [], ['d'], ['e'], ['s'], ['t'], ['r'], ['u'], ['c'], ['t'], ['i'], ['o'], ['n'], [','], [], ['a'], ['l'], ['w'], ['a'], ['y'], ['s'], [], ['r'], ['e'], ['m'], ['e'], ['m'], ['b'], ['e'], ['r'], ['i'], ['n'], ['g'], [], ['i'], ['t'], ['s'], [], ['m'], ['a'], ['n'], ['y'], [], ['l'], ['o'], ['s'], ['t'], [], ['s'], ['o'], ['u'], ['l'], ['s'], [','], [], ['a'], ['n'], ['d'], [], ['t'], ['h'], ['e'], [], ['l'], ['o'], ['s'], ['t'], [], ['s'], ['o'], ['u'], ['l'], ['s'], [], ['a'], ['l'], ['l'], [], ['o'], ['v'], ['e'], ['r'], [], ['t'], ['h'], ['e'], [], ['W'], ['o'], ['r'], ['l'], ['d'], [','], [], ['<'], ['3'], [], ['a'], ['n'], ['d'], [], ['b'], ['e'], ['c'], ['a'], ['m'], ['e'], [], ['g'], ['r'], ['e'], ['a'], ['t'], ['e'], ['r'], [], ['t'], ['h'], ['a'], ['n'], [], ['e'], ['v'], ['e'], ['r'], [], ['b'], ['e'], ['f'], ['o'], ['r'], ['e'], ['!'], [], ['@'], ['t'], ['r'], ['u'], ['m'], ['p']]\n"
     ]
    }
   ],
   "source": [
    "tknzr = TweetTokenizer()\n",
    "all_tokens = [tknzr.tokenize(t) for t in tweets]\n",
    "print(all_tokens)"
   ]
  },
  {
   "cell_type": "code",
   "execution_count": 26,
   "metadata": {},
   "outputs": [
    {
     "name": "stdout",
     "output_type": "stream",
     "text": [
      "[\"Well, thank you very much. Please. This afternoon, I'll sign a proclamation declaring the month of May to be Older Americans Month. I don't know if I'm in that category. I have a feeling I am, but I feel good and our country is making a lot of progress, Alex, I will tell you that. Making a lot of progress. As we honor the incredible contributions of our nation's seniors, we're here today to discuss the unprecedented steps that we're taking to protect our seniors from the virus. I'll also announce vital new actions to safeguard our nursing homes and most vulnerable citizens as we gradually and safely reopen our country and it's very exciting to see what's happening. We're joined today by Secretary Alex Azar, thank you. Secretary Robert Wilkie. Robert, thank you very much. Administrator Seema Verma, thank you, great job. FEMA administrator, Pete Gaynor and Chief of national guard, bureau general Joseph Lengyel.\", \"Donald Trump:  Thanks also to Tennessee Governor Bill Lee, my friend. Thank you very much, Bill. Great job you're doing. It's great being with you too. And many outstanding advocates for America seniors who are here with us today, thank you all very much. As we tragically have seen, the virus poses the greatest risk to older Americans. Together as one nation, we mourn for every precious life that has been lost and there have been many. We're so saddened by it. Through our aggressive actions and the devotion of our doctors and nurses, however, we have held our fatality rate far below hard hit other countries such as Spain and Italy and United Kingdom and Sweden. We're way below other countries. We're deploying every tool, resource and power at our disposal to protect our seniors and Americans of every age and background. Early on, we implemented life saving travel restrictions and directed billions of dollars toward the development of therapies and vaccines and that's moving along rapidly.\", \"Donald Trump:  We've moved at a speed that people are absolutely stunned to see. We accelerated treatments including remdesivir, which is reportedly showing encouraging preliminary results. That was the very big story yesterday, it was announced by Gilead. In early March, my administration advised all nursing homes to suspend all medically unnecessary visits to help slow the spread and to protect our seniors, and especially in our nursing homes they are having a hard time in those nursing homes. We took action to step up enforcement of infectious disease standards at nursing homes all across America. We also acted swiftly to secure our veterans' healthcare facilities and deployed hundreds of VA staff to help out in nursing homes nationwide, and we're being helped very greatly by the passage of all of the things that we got passed, Robert. Especially choice, so that people can go and see their doctor when they have to, and especially our seniors.\\\\\", \"Donald Trump: We provided nearly $1 billion in grants to support home delivered meals, in home care and other services that make it impossible for older people to just do what they want to do. We're helping older people with disabilities and we're helping them to live independently. We dramatically expanded access to tele health, a very big deal for Medicare beneficiaries. The number of Medicare patients using tele health has increased from roughly 11,000 a week to more than 650,000 people a week. So, that's from 11,000 a week to 650,000, that's almost an impossible number to believe, right? But it's really something. They get used to it and a lot of that's going to be staying with us long after this horrible scourge is gone. Medicare is also paying for labs to seniors with at home testing when appropriate at zero cost to patients. We've ensured a ventilator for every patient who needs one.\", \"Donald Trump: Nobody who's needed a ventilator has been without a ventilator. It's an incredible achievement and we now have thousands and thousands of ventilators and other countries are asking us to help and we're helping other countries. Allies and some that aren't necessarily allies, but they're in big trouble and we're helping other countries now with ventilators. Same thing with masks, we have millions and millions of masks. That was something four weeks ago was difficult and now we have millions of masks coming in and already here. The federal government is also funding over 35,000 members of the national guard to help states deliver critical supplies to nursing homes and to assist with disinfecting and testing. I\\\\'92d like to ask general Lengyel to please come up and say a few words about the work of the national guard. It's been really fantastic. Thank you. General, please.\", '']\n"
     ]
    }
   ],
   "source": [
    "lines = press.split('\\n')\n",
    "print(lines)"
   ]
  },
  {
   "cell_type": "code",
   "execution_count": 27,
   "metadata": {},
   "outputs": [],
   "source": [
    "pattern7 = \"[A-Z]{2,}(\\s)?(#\\d)?([A-Z]{2,})?:\""
   ]
  },
  {
   "cell_type": "code",
   "execution_count": 31,
   "metadata": {},
   "outputs": [],
   "source": [
    "lines = [re.sub(pattern7, \"\", l) for l in lines]\n"
   ]
  },
  {
   "cell_type": "code",
   "execution_count": 32,
   "metadata": {},
   "outputs": [],
   "source": [
    "tokenize_lines = [regexp_tokenize(s, \"\\w+\") for s in lines]"
   ]
  },
  {
   "cell_type": "code",
   "execution_count": 33,
   "metadata": {},
   "outputs": [],
   "source": [
    "line_num_words = [len(t_line) for t_line in tokenize_lines]"
   ]
  },
  {
   "cell_type": "code",
   "execution_count": 34,
   "metadata": {},
   "outputs": [
    {
     "data": {
      "image/png": "[encoded data removed]",
      "text/plain": [
       "<Figure size 432x288 with 1 Axes>"
      ]
     },
     "metadata": {
      "needs_background": "light"
     },
     "output_type": "display_data"
    }
   ],
   "source": [
    "plt.hist(line_num_words)\n",
    "plt.show()"
   ]
  },
  {
   "cell_type": "code",
   "execution_count": 35,
   "metadata": {},
   "outputs": [],
   "source": [
    "tokens = word_tokenize(text)"
   ]
  },
  {
   "cell_type": "code",
   "execution_count": 36,
   "metadata": {},
   "outputs": [],
   "source": [
    "lower_tokens = [t.lower() for t in tokens]"
   ]
  },
  {
   "cell_type": "code",
   "execution_count": 37,
   "metadata": {},
   "outputs": [],
   "source": [
    "bow_simple = Counter(lower_tokens)"
   ]
  },
  {
   "cell_type": "code",
   "execution_count": 38,
   "metadata": {},
   "outputs": [
    {
     "name": "stdout",
     "output_type": "stream",
     "text": [
      "[('.', 99), (',', 82), ('and', 67), ('the', 59), ('to', 57), ('our', 38), ('we', 38), ('of', 33), ('a', 24), ('in', 23)]\n"
     ]
    }
   ],
   "source": [
    "print(bow_simple.most_common(10))"
   ]
  },
  {
   "cell_type": "code",
   "execution_count": 39,
   "metadata": {},
   "outputs": [],
   "source": [
    "# Retain alphabetical characters"
   ]
  },
  {
   "cell_type": "code",
   "execution_count": 50,
   "metadata": {},
   "outputs": [],
   "source": [
    "alpha_only = [t for t in lower_tokens if t.isalpha()]"
   ]
  },
  {
   "cell_type": "code",
   "execution_count": 44,
   "metadata": {},
   "outputs": [],
   "source": [
    "#  Remove all the stop words\n",
    "\n",
    "no_stops = [t for t in alpha_only if t not in stopwords.words('english')]"
   ]
  },
  {
   "cell_type": "code",
   "execution_count": 45,
   "metadata": {},
   "outputs": [],
   "source": [
    "word_lemmatizer = WordNetLemmatizer()"
   ]
  },
  {
   "cell_type": "code",
   "execution_count": 47,
   "metadata": {},
   "outputs": [],
   "source": [
    "lemmatized = [word_lemmatizer.lemmatize(t) for t in no_stops]"
   ]
  },
  {
   "cell_type": "code",
   "execution_count": 53,
   "metadata": {},
   "outputs": [
    {
     "name": "stdout",
     "output_type": "stream",
     "text": [
      "[('america', 10), ('american', 8), ('state', 8), ('family', 7), ('must', 7), ('u', 6), ('right', 6), ('speaker', 5), ('could', 5), ('life', 5)]\n"
     ]
    }
   ],
   "source": [
    "bow_s = Counter(lemmatized)\n",
    "print(bow_s.most_common(10))"
   ]
  },
  {
   "cell_type": "code",
   "execution_count": 56,
   "metadata": {},
   "outputs": [
    {
     "name": "stdout",
     "output_type": "stream",
     "text": [
      "[('home', 10), ('thank', 7), ('country', 7), ('nursing', 7), ('senior', 6), ('also', 5), ('people', 5), ('ventilator', 5), ('much', 4), ('older', 4)]\n"
     ]
    }
   ],
   "source": [
    "# Compare Trump \n",
    "\n",
    "tokens_t = word_tokenize(press)\n",
    "lower_token_t = [t.lower() for t in tokens_t]\n",
    "alpha_token_t = [t for t in lower_token_t if t.isalpha()]\n",
    "no_stops_t = [t for t in alpha_token_t if t not in stopwords.words('english')]\n",
    "lemmatized_t = [word_lemmatizer.lemmatize(t) for t in no_stops_t]\n",
    "bow_t = Counter(lemmatized_t)\n",
    "print(bow_t.most_common(10))\n"
   ]
  },
  {
   "cell_type": "code",
   "execution_count": 75,
   "metadata": {},
   "outputs": [
    {
     "ename": "TypeError",
     "evalue": "doc2bow expects an array of unicode tokens on input, not a single string",
     "output_type": "error",
     "traceback": [
      "\u001b[0;31m---------------------------------------------------------------------------\u001b[0m",
      "\u001b[0;31mTypeError\u001b[0m                                 Traceback (most recent call last)",
      "\u001b[0;32m<ipython-input-75-1ee4d14af014>\u001b[0m in \u001b[0;36m<module>\u001b[0;34m\u001b[0m\n\u001b[0;32m----> 1\u001b[0;31m \u001b[0mdictionary\u001b[0m \u001b[0;34m=\u001b[0m \u001b[0mDictionary\u001b[0m\u001b[0;34m(\u001b[0m\u001b[0mlemmatized\u001b[0m\u001b[0;34m)\u001b[0m\u001b[0;34m\u001b[0m\u001b[0;34m\u001b[0m\u001b[0m\n\u001b[0m\u001b[1;32m      2\u001b[0m \u001b[0;31m# dictionary.token2id\u001b[0m\u001b[0;34m\u001b[0m\u001b[0;34m\u001b[0m\u001b[0;34m\u001b[0m\u001b[0m\n",
      "\u001b[0;32m/opt/anaconda3/lib/python3.7/site-packages/gensim/corpora/dictionary.py\u001b[0m in \u001b[0;36m__init__\u001b[0;34m(self, documents, prune_at)\u001b[0m\n\u001b[1;32m     85\u001b[0m \u001b[0;34m\u001b[0m\u001b[0m\n\u001b[1;32m     86\u001b[0m         \u001b[0;32mif\u001b[0m \u001b[0mdocuments\u001b[0m \u001b[0;32mis\u001b[0m \u001b[0;32mnot\u001b[0m \u001b[0;32mNone\u001b[0m\u001b[0;34m:\u001b[0m\u001b[0;34m\u001b[0m\u001b[0;34m\u001b[0m\u001b[0m\n\u001b[0;32m---> 87\u001b[0;31m             \u001b[0mself\u001b[0m\u001b[0;34m.\u001b[0m\u001b[0madd_documents\u001b[0m\u001b[0;34m(\u001b[0m\u001b[0mdocuments\u001b[0m\u001b[0;34m,\u001b[0m \u001b[0mprune_at\u001b[0m\u001b[0;34m=\u001b[0m\u001b[0mprune_at\u001b[0m\u001b[0;34m)\u001b[0m\u001b[0;34m\u001b[0m\u001b[0;34m\u001b[0m\u001b[0m\n\u001b[0m\u001b[1;32m     88\u001b[0m \u001b[0;34m\u001b[0m\u001b[0m\n\u001b[1;32m     89\u001b[0m     \u001b[0;32mdef\u001b[0m \u001b[0m__getitem__\u001b[0m\u001b[0;34m(\u001b[0m\u001b[0mself\u001b[0m\u001b[0;34m,\u001b[0m \u001b[0mtokenid\u001b[0m\u001b[0;34m)\u001b[0m\u001b[0;34m:\u001b[0m\u001b[0;34m\u001b[0m\u001b[0;34m\u001b[0m\u001b[0m\n",
      "\u001b[0;32m/opt/anaconda3/lib/python3.7/site-packages/gensim/corpora/dictionary.py\u001b[0m in \u001b[0;36madd_documents\u001b[0;34m(self, documents, prune_at)\u001b[0m\n\u001b[1;32m    206\u001b[0m \u001b[0;34m\u001b[0m\u001b[0m\n\u001b[1;32m    207\u001b[0m             \u001b[0;31m# update Dictionary with the document\u001b[0m\u001b[0;34m\u001b[0m\u001b[0;34m\u001b[0m\u001b[0;34m\u001b[0m\u001b[0m\n\u001b[0;32m--> 208\u001b[0;31m             \u001b[0mself\u001b[0m\u001b[0;34m.\u001b[0m\u001b[0mdoc2bow\u001b[0m\u001b[0;34m(\u001b[0m\u001b[0mdocument\u001b[0m\u001b[0;34m,\u001b[0m \u001b[0mallow_update\u001b[0m\u001b[0;34m=\u001b[0m\u001b[0;32mTrue\u001b[0m\u001b[0;34m)\u001b[0m  \u001b[0;31m# ignore the result, here we only care about updating token ids\u001b[0m\u001b[0;34m\u001b[0m\u001b[0;34m\u001b[0m\u001b[0m\n\u001b[0m\u001b[1;32m    209\u001b[0m \u001b[0;34m\u001b[0m\u001b[0m\n\u001b[1;32m    210\u001b[0m         logger.info(\n",
      "\u001b[0;32m/opt/anaconda3/lib/python3.7/site-packages/gensim/corpora/dictionary.py\u001b[0m in \u001b[0;36mdoc2bow\u001b[0;34m(self, document, allow_update, return_missing)\u001b[0m\n\u001b[1;32m    246\u001b[0m         \"\"\"\n\u001b[1;32m    247\u001b[0m         \u001b[0;32mif\u001b[0m \u001b[0misinstance\u001b[0m\u001b[0;34m(\u001b[0m\u001b[0mdocument\u001b[0m\u001b[0;34m,\u001b[0m \u001b[0mstring_types\u001b[0m\u001b[0;34m)\u001b[0m\u001b[0;34m:\u001b[0m\u001b[0;34m\u001b[0m\u001b[0;34m\u001b[0m\u001b[0m\n\u001b[0;32m--> 248\u001b[0;31m             \u001b[0;32mraise\u001b[0m \u001b[0mTypeError\u001b[0m\u001b[0;34m(\u001b[0m\u001b[0;34m\"doc2bow expects an array of unicode tokens on input, not a single string\"\u001b[0m\u001b[0;34m)\u001b[0m\u001b[0;34m\u001b[0m\u001b[0;34m\u001b[0m\u001b[0m\n\u001b[0m\u001b[1;32m    249\u001b[0m \u001b[0;34m\u001b[0m\u001b[0m\n\u001b[1;32m    250\u001b[0m         \u001b[0;31m# Construct (word, frequency) mapping.\u001b[0m\u001b[0;34m\u001b[0m\u001b[0;34m\u001b[0m\u001b[0;34m\u001b[0m\u001b[0m\n",
      "\u001b[0;31mTypeError\u001b[0m: doc2bow expects an array of unicode tokens on input, not a single string"
     ]
    }
   ],
   "source": [
    "dictionary = Dictionary(lemmatized)\n",
    "# dictionary.token2id"
   ]
  },
  {
   "cell_type": "code",
   "execution_count": null,
   "metadata": {},
   "outputs": [],
   "source": [
    "computer_id = dictionary.token2id.get(\"\")"
   ]
  },
  {
   "cell_type": "code",
   "execution_count": 68,
   "metadata": {},
   "outputs": [],
   "source": [
    "corpus = [dictionary.doc2bow([t]) for t in lemmatized]"
   ]
  },
  {
   "cell_type": "code",
   "execution_count": 73,
   "metadata": {},
   "outputs": [],
   "source": [
    "my_documents = ['The movie was about a spaceship and aliens.',\n",
    "...: 'I really liked the movie!',\n",
    "...: 'Awesome action scenes, but boring characters.',\n",
    "...: 'The movie was awful! I hate alien films.',\n",
    "...: 'Space is cool! I liked the movie.',\n",
    "...: 'More space films, please!',]"
   ]
  },
  {
   "cell_type": "code",
   "execution_count": 77,
   "metadata": {},
   "outputs": [],
   "source": [
    "tokenized_docs = [word_tokenize(doc.lower())for doc in my_documents]"
   ]
  },
  {
   "cell_type": "code",
   "execution_count": 78,
   "metadata": {},
   "outputs": [],
   "source": [
    "dictionary = Dictionary(tokenized_docs)"
   ]
  },
  {
   "cell_type": "code",
   "execution_count": 79,
   "metadata": {},
   "outputs": [
    {
     "data": {
      "text/plain": [
       "{'.': 0,\n",
       " 'a': 1,\n",
       " 'about': 2,\n",
       " 'aliens': 3,\n",
       " 'and': 4,\n",
       " 'movie': 5,\n",
       " 'spaceship': 6,\n",
       " 'the': 7,\n",
       " 'was': 8,\n",
       " '!': 9,\n",
       " 'i': 10,\n",
       " 'liked': 11,\n",
       " 'really': 12,\n",
       " ',': 13,\n",
       " 'action': 14,\n",
       " 'awesome': 15,\n",
       " 'boring': 16,\n",
       " 'but': 17,\n",
       " 'characters': 18,\n",
       " 'scenes': 19,\n",
       " 'alien': 20,\n",
       " 'awful': 21,\n",
       " 'films': 22,\n",
       " 'hate': 23,\n",
       " 'cool': 24,\n",
       " 'is': 25,\n",
       " 'space': 26,\n",
       " 'more': 27,\n",
       " 'please': 28}"
      ]
     },
     "execution_count": 79,
     "metadata": {},
     "output_type": "execute_result"
    }
   ],
   "source": [
    "dictionary.token2id"
   ]
  },
  {
   "cell_type": "code",
   "execution_count": 81,
   "metadata": {},
   "outputs": [
    {
     "data": {
      "text/plain": [
       "[[(0, 1), (1, 1), (2, 1), (3, 1), (4, 1), (5, 1), (6, 1), (7, 1), (8, 1)],\n",
       " [(5, 1), (7, 1), (9, 1), (10, 1), (11, 1), (12, 1)],\n",
       " [(0, 1), (13, 1), (14, 1), (15, 1), (16, 1), (17, 1), (18, 1), (19, 1)],\n",
       " [(0, 1),\n",
       "  (5, 1),\n",
       "  (7, 1),\n",
       "  (8, 1),\n",
       "  (9, 1),\n",
       "  (10, 1),\n",
       "  (20, 1),\n",
       "  (21, 1),\n",
       "  (22, 1),\n",
       "  (23, 1)],\n",
       " [(0, 1), (5, 1), (7, 1), (9, 1), (10, 1), (11, 1), (24, 1), (25, 1), (26, 1)],\n",
       " [(9, 1), (13, 1), (22, 1), (26, 1), (27, 1), (28, 1)]]"
      ]
     },
     "execution_count": 81,
     "metadata": {},
     "output_type": "execute_result"
    }
   ],
   "source": [
    "corpus = [dictionary.doc2bow(doc) for doc in tokenized_docs]\n",
    "corpus"
   ]
  },
  {
   "cell_type": "code",
   "execution_count": 92,
   "metadata": {},
   "outputs": [],
   "source": [
    "# Name Entity Recognition (NER)\n",
    "\n",
    "nlp = spacy.load('en') \n",
    "# tagger=False, parser=False, matcher=False)"
   ]
  },
  {
   "cell_type": "code",
   "execution_count": 93,
   "metadata": {},
   "outputs": [],
   "source": [
    "doc = nlp(text)"
   ]
  },
  {
   "cell_type": "code",
   "execution_count": 94,
   "metadata": {},
   "outputs": [
    {
     "name": "stdout",
     "output_type": "stream",
     "text": [
      "NORP Americans\n",
      "PERSON Happy Lunar\n",
      "PERSON Stacey Abrams\n",
      "PERSON United Methodist\n",
      "CARDINAL one\n",
      "QUANTITY the 30 mile\n",
      "CARDINAL One\n",
      "NORP Americans\n",
      "GPE these United States\n",
      "ORDINAL first\n",
      "NORP Democratic\n",
      "GPE Georgia\n",
      "TIME tonight\n",
      "GPE America\n",
      "GPE America\n",
      "DATE Just a few weeks ago\n",
      "DATE weeks\n",
      "GPE the United States\n",
      "DATE seven years\n",
      "ORG the Democratic Party\n",
      "FAC the Georgia House of Representatives\n",
      "NORP republican\n",
      "NORP Americans\n",
      "DATE today\n",
      "DATE tomorrow\n",
      "ORG White House\n",
      "ORDINAL first\n",
      "GPE America\n",
      "GPE Georgia\n",
      "NORP Republican\n",
      "NORP Americans\n",
      "NORP Republican\n",
      "CARDINAL millions\n",
      "DATE the 21st century\n",
      "PERSON Reagan\n",
      "PERSON Obama\n",
      "NORP Americans\n",
      "NORP democrats\n",
      "GPE America\n",
      "CARDINAL 6:19\n",
      "NORP republican\n",
      "DATE years\n",
      "NORP Americans\n",
      "CARDINAL 14\n",
      "ORG Medicaid\n",
      "DATE 2018\n",
      "GPE Georgia\n",
      "NORP Americans\n",
      "GPE America\n",
      "PERSON Jim Crow\n",
      "LAW the Civil Rights Act\n",
      "LAW the Voting Rights Act\n",
      "GPE America\n",
      "LAW Roe v. Wade\n",
      "ORG LGBTQ\n",
      "GPE America\n",
      "NORP American\n",
      "CARDINAL 10:10\n",
      "CARDINAL 10:13\n",
      "GPE America\n",
      "GPE America\n",
      "PERSON God\n",
      "GPE the United States of America\n",
      "PERSON Transcribed\n"
     ]
    }
   ],
   "source": [
    "for ent in doc.ents:\n",
    "    print(ent.label_, ent.text)"
   ]
  },
  {
   "cell_type": "code",
   "execution_count": null,
   "metadata": {},
   "outputs": [],
   "source": []
  }
 ],
 "metadata": {
  "kernelspec": {
   "display_name": "Python 3",
   "language": "python",
   "name": "python3"
  },
  "language_info": {
   "codemirror_mode": {
    "name": "ipython",
    "version": 3
   },
   "file_extension": ".py",
   "mimetype": "text/x-python",
   "name": "python",
   "nbconvert_exporter": "python",
   "pygments_lexer": "ipython3",
   "version": "3.7.4"
  }
 },
 "nbformat": 4,
 "nbformat_minor": 2
}
